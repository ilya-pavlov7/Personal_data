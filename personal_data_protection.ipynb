{
  "cells": [
    {
      "cell_type": "markdown",
      "metadata": {
        "toc": true,
        "id": "ivAICxYV3z8M"
      },
      "source": [
        "<h1>Содержание<span class=\"tocSkip\"></span></h1>\n",
        "<div class=\"toc\"><ul class=\"toc-item\"><li><span><a href=\"#Загрузка-данных\" data-toc-modified-id=\"Загрузка-данных-1\"><span class=\"toc-item-num\">1&nbsp;&nbsp;</span>Загрузка данных</a></span><ul class=\"toc-item\"><li><span><a href=\"#Знакомство-с-данными\" data-toc-modified-id=\"Знакомство-с-данными-1.1\"><span class=\"toc-item-num\">1.1&nbsp;&nbsp;</span>Знакомство с данными</a></span></li><li><span><a href=\"#Пропуски\" data-toc-modified-id=\"Пропуски-1.2\"><span class=\"toc-item-num\">1.2&nbsp;&nbsp;</span>Пропуски</a></span></li><li><span><a href=\"#Типы-данных\" data-toc-modified-id=\"Типы-данных-1.3\"><span class=\"toc-item-num\">1.3&nbsp;&nbsp;</span>Типы данных</a></span></li><li><span><a href=\"#Целевой-признак\" data-toc-modified-id=\"Целевой-признак-1.4\"><span class=\"toc-item-num\">1.4&nbsp;&nbsp;</span>Целевой признак</a></span></li></ul></li><li><span><a href=\"#Умножение-матриц\" data-toc-modified-id=\"Умножение-матриц-2\"><span class=\"toc-item-num\">2&nbsp;&nbsp;</span>Умножение матриц</a></span></li><li><span><a href=\"#Алгоритм-преобразования\" data-toc-modified-id=\"Алгоритм-преобразования-3\"><span class=\"toc-item-num\">3&nbsp;&nbsp;</span>Алгоритм преобразования</a></span></li><li><span><a href=\"#Проверка-алгоритма\" data-toc-modified-id=\"Проверка-алгоритма-4\"><span class=\"toc-item-num\">4&nbsp;&nbsp;</span>Проверка алгоритма</a></span><ul class=\"toc-item\"><li><span><a href=\"#Модель-без-преобразования-признаков\" data-toc-modified-id=\"Модель-без-преобразования-признаков-4.1\"><span class=\"toc-item-num\">4.1&nbsp;&nbsp;</span>Модель без преобразования признаков</a></span></li><li><span><a href=\"#Модель-с-преобразованием-признаков\" data-toc-modified-id=\"Модель-с-преобразованием-признаков-4.2\"><span class=\"toc-item-num\">4.2&nbsp;&nbsp;</span>Модель с преобразованием признаков</a></span></li></ul></li><li><span><a href=\"#Чек-лист-проверки\" data-toc-modified-id=\"Чек-лист-проверки-5\"><span class=\"toc-item-num\">5&nbsp;&nbsp;</span>Чек-лист проверки</a></span></li></ul></div>"
      ]
    },
    {
      "cell_type": "markdown",
      "metadata": {
        "id": "DXNE59Zc3z8Q"
      },
      "source": [
        "# Защита персональных данных клиентов"
      ]
    },
    {
      "cell_type": "markdown",
      "metadata": {
        "id": "W5CW4Mgh3z8Q"
      },
      "source": [
        "Вам нужно защитить данные клиентов страховой компании «Хоть потоп». Разработайте такой метод преобразования данных, чтобы по ним было сложно восстановить персональную информацию. Обоснуйте корректность его работы.\n",
        "\n",
        "Нужно защитить данные, чтобы при преобразовании качество моделей машинного обучения не ухудшилось. Подбирать наилучшую модель не требуется."
      ]
    },
    {
      "cell_type": "markdown",
      "metadata": {
        "id": "tWxClacL3z8R"
      },
      "source": [
        "**Шаг 1: Знакомство с данными и обработка  \n",
        "Шаг 2: Решение задачи кодировки информации при помощи умножения на обратимую матрицу  \n",
        "Шаг 3: Реализация алгоритма задачи  \n",
        "Шаг 4: Построение модели  \n",
        "Шаг 5: Вывод**"
      ]
    },
    {
      "cell_type": "markdown",
      "metadata": {
        "id": "RsNmWf7P3z8S"
      },
      "source": [
        "## Загрузка данных"
      ]
    },
    {
      "cell_type": "code",
      "execution_count": 26,
      "metadata": {
        "id": "a_dBarzV3z8T"
      },
      "outputs": [],
      "source": [
        "import pandas as pd\n",
        "import numpy as np\n",
        "from sklearn.linear_model import LinearRegression\n",
        "from sklearn.model_selection import train_test_split\n",
        "from sklearn.metrics import r2_score"
      ]
    },
    {
      "cell_type": "code",
      "execution_count": 27,
      "metadata": {
        "id": "oDD91Neq3z8U"
      },
      "outputs": [],
      "source": [
        "df = pd.read_csv('insurance.csv')"
      ]
    },
    {
      "cell_type": "markdown",
      "metadata": {
        "id": "WR44WfbG3z8U"
      },
      "source": [
        "### Знакомство с данными"
      ]
    },
    {
      "cell_type": "code",
      "execution_count": 28,
      "metadata": {
        "id": "KBn6kvT93z8U"
      },
      "outputs": [],
      "source": [
        "def df_presentation(df):\n",
        "    display(df.head())\n",
        "    print(df.info())\n",
        "    print(df.shape)\n",
        "    print(df.describe())\n",
        "    df.hist(figsize = (12,15))"
      ]
    },
    {
      "cell_type": "code",
      "execution_count": 29,
      "metadata": {
        "scrolled": true,
        "id": "k3da_Z5B3z8V",
        "outputId": "30313e24-8882-43c9-ae43-0261f98f9dd5",
        "colab": {
          "base_uri": "https://localhost:8080/",
          "height": 1000
        }
      },
      "outputs": [
        {
          "output_type": "display_data",
          "data": {
            "text/plain": [
              "   Пол  Возраст  Зарплата  Члены семьи  Страховые выплаты\n",
              "0    1     41.0   49600.0            1                  0\n",
              "1    0     46.0   38000.0            1                  1\n",
              "2    0     29.0   21000.0            0                  0\n",
              "3    0     21.0   41700.0            2                  0\n",
              "4    1     28.0   26100.0            0                  0"
            ],
            "text/html": [
              "\n",
              "  <div id=\"df-5ba36ab1-51fb-4a4a-847c-20861747215a\">\n",
              "    <div class=\"colab-df-container\">\n",
              "      <div>\n",
              "<style scoped>\n",
              "    .dataframe tbody tr th:only-of-type {\n",
              "        vertical-align: middle;\n",
              "    }\n",
              "\n",
              "    .dataframe tbody tr th {\n",
              "        vertical-align: top;\n",
              "    }\n",
              "\n",
              "    .dataframe thead th {\n",
              "        text-align: right;\n",
              "    }\n",
              "</style>\n",
              "<table border=\"1\" class=\"dataframe\">\n",
              "  <thead>\n",
              "    <tr style=\"text-align: right;\">\n",
              "      <th></th>\n",
              "      <th>Пол</th>\n",
              "      <th>Возраст</th>\n",
              "      <th>Зарплата</th>\n",
              "      <th>Члены семьи</th>\n",
              "      <th>Страховые выплаты</th>\n",
              "    </tr>\n",
              "  </thead>\n",
              "  <tbody>\n",
              "    <tr>\n",
              "      <th>0</th>\n",
              "      <td>1</td>\n",
              "      <td>41.0</td>\n",
              "      <td>49600.0</td>\n",
              "      <td>1</td>\n",
              "      <td>0</td>\n",
              "    </tr>\n",
              "    <tr>\n",
              "      <th>1</th>\n",
              "      <td>0</td>\n",
              "      <td>46.0</td>\n",
              "      <td>38000.0</td>\n",
              "      <td>1</td>\n",
              "      <td>1</td>\n",
              "    </tr>\n",
              "    <tr>\n",
              "      <th>2</th>\n",
              "      <td>0</td>\n",
              "      <td>29.0</td>\n",
              "      <td>21000.0</td>\n",
              "      <td>0</td>\n",
              "      <td>0</td>\n",
              "    </tr>\n",
              "    <tr>\n",
              "      <th>3</th>\n",
              "      <td>0</td>\n",
              "      <td>21.0</td>\n",
              "      <td>41700.0</td>\n",
              "      <td>2</td>\n",
              "      <td>0</td>\n",
              "    </tr>\n",
              "    <tr>\n",
              "      <th>4</th>\n",
              "      <td>1</td>\n",
              "      <td>28.0</td>\n",
              "      <td>26100.0</td>\n",
              "      <td>0</td>\n",
              "      <td>0</td>\n",
              "    </tr>\n",
              "  </tbody>\n",
              "</table>\n",
              "</div>\n",
              "      <button class=\"colab-df-convert\" onclick=\"convertToInteractive('df-5ba36ab1-51fb-4a4a-847c-20861747215a')\"\n",
              "              title=\"Convert this dataframe to an interactive table.\"\n",
              "              style=\"display:none;\">\n",
              "        \n",
              "  <svg xmlns=\"http://www.w3.org/2000/svg\" height=\"24px\"viewBox=\"0 0 24 24\"\n",
              "       width=\"24px\">\n",
              "    <path d=\"M0 0h24v24H0V0z\" fill=\"none\"/>\n",
              "    <path d=\"M18.56 5.44l.94 2.06.94-2.06 2.06-.94-2.06-.94-.94-2.06-.94 2.06-2.06.94zm-11 1L8.5 8.5l.94-2.06 2.06-.94-2.06-.94L8.5 2.5l-.94 2.06-2.06.94zm10 10l.94 2.06.94-2.06 2.06-.94-2.06-.94-.94-2.06-.94 2.06-2.06.94z\"/><path d=\"M17.41 7.96l-1.37-1.37c-.4-.4-.92-.59-1.43-.59-.52 0-1.04.2-1.43.59L10.3 9.45l-7.72 7.72c-.78.78-.78 2.05 0 2.83L4 21.41c.39.39.9.59 1.41.59.51 0 1.02-.2 1.41-.59l7.78-7.78 2.81-2.81c.8-.78.8-2.07 0-2.86zM5.41 20L4 18.59l7.72-7.72 1.47 1.35L5.41 20z\"/>\n",
              "  </svg>\n",
              "      </button>\n",
              "      \n",
              "  <style>\n",
              "    .colab-df-container {\n",
              "      display:flex;\n",
              "      flex-wrap:wrap;\n",
              "      gap: 12px;\n",
              "    }\n",
              "\n",
              "    .colab-df-convert {\n",
              "      background-color: #E8F0FE;\n",
              "      border: none;\n",
              "      border-radius: 50%;\n",
              "      cursor: pointer;\n",
              "      display: none;\n",
              "      fill: #1967D2;\n",
              "      height: 32px;\n",
              "      padding: 0 0 0 0;\n",
              "      width: 32px;\n",
              "    }\n",
              "\n",
              "    .colab-df-convert:hover {\n",
              "      background-color: #E2EBFA;\n",
              "      box-shadow: 0px 1px 2px rgba(60, 64, 67, 0.3), 0px 1px 3px 1px rgba(60, 64, 67, 0.15);\n",
              "      fill: #174EA6;\n",
              "    }\n",
              "\n",
              "    [theme=dark] .colab-df-convert {\n",
              "      background-color: #3B4455;\n",
              "      fill: #D2E3FC;\n",
              "    }\n",
              "\n",
              "    [theme=dark] .colab-df-convert:hover {\n",
              "      background-color: #434B5C;\n",
              "      box-shadow: 0px 1px 3px 1px rgba(0, 0, 0, 0.15);\n",
              "      filter: drop-shadow(0px 1px 2px rgba(0, 0, 0, 0.3));\n",
              "      fill: #FFFFFF;\n",
              "    }\n",
              "  </style>\n",
              "\n",
              "      <script>\n",
              "        const buttonEl =\n",
              "          document.querySelector('#df-5ba36ab1-51fb-4a4a-847c-20861747215a button.colab-df-convert');\n",
              "        buttonEl.style.display =\n",
              "          google.colab.kernel.accessAllowed ? 'block' : 'none';\n",
              "\n",
              "        async function convertToInteractive(key) {\n",
              "          const element = document.querySelector('#df-5ba36ab1-51fb-4a4a-847c-20861747215a');\n",
              "          const dataTable =\n",
              "            await google.colab.kernel.invokeFunction('convertToInteractive',\n",
              "                                                     [key], {});\n",
              "          if (!dataTable) return;\n",
              "\n",
              "          const docLinkHtml = 'Like what you see? Visit the ' +\n",
              "            '<a target=\"_blank\" href=https://colab.research.google.com/notebooks/data_table.ipynb>data table notebook</a>'\n",
              "            + ' to learn more about interactive tables.';\n",
              "          element.innerHTML = '';\n",
              "          dataTable['output_type'] = 'display_data';\n",
              "          await google.colab.output.renderOutput(dataTable, element);\n",
              "          const docLink = document.createElement('div');\n",
              "          docLink.innerHTML = docLinkHtml;\n",
              "          element.appendChild(docLink);\n",
              "        }\n",
              "      </script>\n",
              "    </div>\n",
              "  </div>\n",
              "  "
            ]
          },
          "metadata": {}
        },
        {
          "output_type": "stream",
          "name": "stdout",
          "text": [
            "<class 'pandas.core.frame.DataFrame'>\n",
            "RangeIndex: 5000 entries, 0 to 4999\n",
            "Data columns (total 5 columns):\n",
            " #   Column             Non-Null Count  Dtype  \n",
            "---  ------             --------------  -----  \n",
            " 0   Пол                5000 non-null   int64  \n",
            " 1   Возраст            5000 non-null   float64\n",
            " 2   Зарплата           5000 non-null   float64\n",
            " 3   Члены семьи        5000 non-null   int64  \n",
            " 4   Страховые выплаты  5000 non-null   int64  \n",
            "dtypes: float64(2), int64(3)\n",
            "memory usage: 195.4 KB\n",
            "None\n",
            "(5000, 5)\n",
            "               Пол      Возраст      Зарплата  Члены семьи  Страховые выплаты\n",
            "count  5000.000000  5000.000000   5000.000000  5000.000000        5000.000000\n",
            "mean      0.499000    30.952800  39916.360000     1.194200           0.148000\n",
            "std       0.500049     8.440807   9900.083569     1.091387           0.463183\n",
            "min       0.000000    18.000000   5300.000000     0.000000           0.000000\n",
            "25%       0.000000    24.000000  33300.000000     0.000000           0.000000\n",
            "50%       0.000000    30.000000  40200.000000     1.000000           0.000000\n",
            "75%       1.000000    37.000000  46600.000000     2.000000           0.000000\n",
            "max       1.000000    65.000000  79000.000000     6.000000           5.000000\n"
          ]
        },
        {
          "output_type": "display_data",
          "data": {
            "text/plain": [
              "<Figure size 864x1080 with 6 Axes>"
            ],
            "image/png": "[encoded data removed]"
          },
          "metadata": {
            "needs_background": "light"
          }
        }
      ],
      "source": [
        "df_presentation(df)"
      ]
    },
    {
      "cell_type": "markdown",
      "metadata": {
        "id": "tYiGNvP23z8W"
      },
      "source": [
        "**Мужчин и женщин в выборке примерно поровну  \n",
        "Средний возраст составляет 30 лет  \n",
        "Средняя заработная плата варьируется от 35 тыс.руб до 45 тыс.руб  \n",
        "Количество членов семей чаще всего - 1, либо 0  \n",
        "Аномалий не наблюдается**"
      ]
    },
    {
      "cell_type": "markdown",
      "metadata": {
        "id": "uwIbc56R3z8X"
      },
      "source": [
        "**Построим матрицу корреляции**"
      ]
    },
    {
      "cell_type": "code",
      "execution_count": 30,
      "metadata": {
        "scrolled": true,
        "id": "Rtd9sMa63z8X",
        "outputId": "513fa616-d8b5-425a-e1e4-83c7e6c42040",
        "colab": {
          "base_uri": "https://localhost:8080/",
          "height": 206
        }
      },
      "outputs": [
        {
          "output_type": "execute_result",
          "data": {
            "text/plain": [
              "                        Пол   Возраст  Зарплата  Члены семьи  \\\n",
              "Пол                1.000000  0.002074  0.014910    -0.008991   \n",
              "Возраст            0.002074  1.000000 -0.019093    -0.006692   \n",
              "Зарплата           0.014910 -0.019093  1.000000    -0.030296   \n",
              "Члены семьи       -0.008991 -0.006692 -0.030296     1.000000   \n",
              "Страховые выплаты  0.010140  0.651030 -0.014963    -0.036290   \n",
              "\n",
              "                   Страховые выплаты  \n",
              "Пол                         0.010140  \n",
              "Возраст                     0.651030  \n",
              "Зарплата                   -0.014963  \n",
              "Члены семьи                -0.036290  \n",
              "Страховые выплаты           1.000000  "
            ],
            "text/html": [
              "\n",
              "  <div id=\"df-c4a5e380-c61a-4336-84f7-6040909608db\">\n",
              "    <div class=\"colab-df-container\">\n",
              "      <div>\n",
              "<style scoped>\n",
              "    .dataframe tbody tr th:only-of-type {\n",
              "        vertical-align: middle;\n",
              "    }\n",
              "\n",
              "    .dataframe tbody tr th {\n",
              "        vertical-align: top;\n",
              "    }\n",
              "\n",
              "    .dataframe thead th {\n",
              "        text-align: right;\n",
              "    }\n",
              "</style>\n",
              "<table border=\"1\" class=\"dataframe\">\n",
              "  <thead>\n",
              "    <tr style=\"text-align: right;\">\n",
              "      <th></th>\n",
              "      <th>Пол</th>\n",
              "      <th>Возраст</th>\n",
              "      <th>Зарплата</th>\n",
              "      <th>Члены семьи</th>\n",
              "      <th>Страховые выплаты</th>\n",
              "    </tr>\n",
              "  </thead>\n",
              "  <tbody>\n",
              "    <tr>\n",
              "      <th>Пол</th>\n",
              "      <td>1.000000</td>\n",
              "      <td>0.002074</td>\n",
              "      <td>0.014910</td>\n",
              "      <td>-0.008991</td>\n",
              "      <td>0.010140</td>\n",
              "    </tr>\n",
              "    <tr>\n",
              "      <th>Возраст</th>\n",
              "      <td>0.002074</td>\n",
              "      <td>1.000000</td>\n",
              "      <td>-0.019093</td>\n",
              "      <td>-0.006692</td>\n",
              "      <td>0.651030</td>\n",
              "    </tr>\n",
              "    <tr>\n",
              "      <th>Зарплата</th>\n",
              "      <td>0.014910</td>\n",
              "      <td>-0.019093</td>\n",
              "      <td>1.000000</td>\n",
              "      <td>-0.030296</td>\n",
              "      <td>-0.014963</td>\n",
              "    </tr>\n",
              "    <tr>\n",
              "      <th>Члены семьи</th>\n",
              "      <td>-0.008991</td>\n",
              "      <td>-0.006692</td>\n",
              "      <td>-0.030296</td>\n",
              "      <td>1.000000</td>\n",
              "      <td>-0.036290</td>\n",
              "    </tr>\n",
              "    <tr>\n",
              "      <th>Страховые выплаты</th>\n",
              "      <td>0.010140</td>\n",
              "      <td>0.651030</td>\n",
              "      <td>-0.014963</td>\n",
              "      <td>-0.036290</td>\n",
              "      <td>1.000000</td>\n",
              "    </tr>\n",
              "  </tbody>\n",
              "</table>\n",
              "</div>\n",
              "      <button class=\"colab-df-convert\" onclick=\"convertToInteractive('df-c4a5e380-c61a-4336-84f7-6040909608db')\"\n",
              "              title=\"Convert this dataframe to an interactive table.\"\n",
              "              style=\"display:none;\">\n",
              "        \n",
              "  <svg xmlns=\"http://www.w3.org/2000/svg\" height=\"24px\"viewBox=\"0 0 24 24\"\n",
              "       width=\"24px\">\n",
              "    <path d=\"M0 0h24v24H0V0z\" fill=\"none\"/>\n",
              "    <path d=\"M18.56 5.44l.94 2.06.94-2.06 2.06-.94-2.06-.94-.94-2.06-.94 2.06-2.06.94zm-11 1L8.5 8.5l.94-2.06 2.06-.94-2.06-.94L8.5 2.5l-.94 2.06-2.06.94zm10 10l.94 2.06.94-2.06 2.06-.94-2.06-.94-.94-2.06-.94 2.06-2.06.94z\"/><path d=\"M17.41 7.96l-1.37-1.37c-.4-.4-.92-.59-1.43-.59-.52 0-1.04.2-1.43.59L10.3 9.45l-7.72 7.72c-.78.78-.78 2.05 0 2.83L4 21.41c.39.39.9.59 1.41.59.51 0 1.02-.2 1.41-.59l7.78-7.78 2.81-2.81c.8-.78.8-2.07 0-2.86zM5.41 20L4 18.59l7.72-7.72 1.47 1.35L5.41 20z\"/>\n",
              "  </svg>\n",
              "      </button>\n",
              "      \n",
              "  <style>\n",
              "    .colab-df-container {\n",
              "      display:flex;\n",
              "      flex-wrap:wrap;\n",
              "      gap: 12px;\n",
              "    }\n",
              "\n",
              "    .colab-df-convert {\n",
              "      background-color: #E8F0FE;\n",
              "      border: none;\n",
              "      border-radius: 50%;\n",
              "      cursor: pointer;\n",
              "      display: none;\n",
              "      fill: #1967D2;\n",
              "      height: 32px;\n",
              "      padding: 0 0 0 0;\n",
              "      width: 32px;\n",
              "    }\n",
              "\n",
              "    .colab-df-convert:hover {\n",
              "      background-color: #E2EBFA;\n",
              "      box-shadow: 0px 1px 2px rgba(60, 64, 67, 0.3), 0px 1px 3px 1px rgba(60, 64, 67, 0.15);\n",
              "      fill: #174EA6;\n",
              "    }\n",
              "\n",
              "    [theme=dark] .colab-df-convert {\n",
              "      background-color: #3B4455;\n",
              "      fill: #D2E3FC;\n",
              "    }\n",
              "\n",
              "    [theme=dark] .colab-df-convert:hover {\n",
              "      background-color: #434B5C;\n",
              "      box-shadow: 0px 1px 3px 1px rgba(0, 0, 0, 0.15);\n",
              "      filter: drop-shadow(0px 1px 2px rgba(0, 0, 0, 0.3));\n",
              "      fill: #FFFFFF;\n",
              "    }\n",
              "  </style>\n",
              "\n",
              "      <script>\n",
              "        const buttonEl =\n",
              "          document.querySelector('#df-c4a5e380-c61a-4336-84f7-6040909608db button.colab-df-convert');\n",
              "        buttonEl.style.display =\n",
              "          google.colab.kernel.accessAllowed ? 'block' : 'none';\n",
              "\n",
              "        async function convertToInteractive(key) {\n",
              "          const element = document.querySelector('#df-c4a5e380-c61a-4336-84f7-6040909608db');\n",
              "          const dataTable =\n",
              "            await google.colab.kernel.invokeFunction('convertToInteractive',\n",
              "                                                     [key], {});\n",
              "          if (!dataTable) return;\n",
              "\n",
              "          const docLinkHtml = 'Like what you see? Visit the ' +\n",
              "            '<a target=\"_blank\" href=https://colab.research.google.com/notebooks/data_table.ipynb>data table notebook</a>'\n",
              "            + ' to learn more about interactive tables.';\n",
              "          element.innerHTML = '';\n",
              "          dataTable['output_type'] = 'display_data';\n",
              "          await google.colab.output.renderOutput(dataTable, element);\n",
              "          const docLink = document.createElement('div');\n",
              "          docLink.innerHTML = docLinkHtml;\n",
              "          element.appendChild(docLink);\n",
              "        }\n",
              "      </script>\n",
              "    </div>\n",
              "  </div>\n",
              "  "
            ]
          },
          "metadata": {},
          "execution_count": 30
        }
      ],
      "source": [
        "df.corr()"
      ]
    },
    {
      "cell_type": "markdown",
      "metadata": {
        "id": "nS-TSx9e3z8Y"
      },
      "source": [
        "**Признаки практически не связаны друг с другом.  \n",
        "Количество страховых выплат сильно коррелирует с возрастом  \n",
        "Рассмотрим зависимость наглядно** "
      ]
    },
    {
      "cell_type": "code",
      "execution_count": 31,
      "metadata": {
        "scrolled": true,
        "id": "4oKxDuiW3z8Y",
        "outputId": "fc34fedf-c411-4967-d0a3-611f6f3443a8",
        "colab": {
          "base_uri": "https://localhost:8080/",
          "height": 334
        }
      },
      "outputs": [
        {
          "output_type": "display_data",
          "data": {
            "text/plain": [
              "<Figure size 288x360 with 1 Axes>"
            ],
            "image/png": "[encoded data removed]"
          },
          "metadata": {
            "needs_background": "light"
          }
        }
      ],
      "source": [
        "df.plot(x='Страховые выплаты', y='Возраст', kind='scatter', figsize=(4,5))\n",
        "None"
      ]
    },
    {
      "cell_type": "markdown",
      "metadata": {
        "id": "M8LmaeLB3z8Y"
      },
      "source": [
        "Клиенты возрастом ниже 40 ни разу не получали страховых выплат. Чем больше возраст клиента, тем больше выплат он получил"
      ]
    },
    {
      "cell_type": "markdown",
      "metadata": {
        "id": "OjuCyc2R3z8Z"
      },
      "source": [
        "### Пропуски"
      ]
    },
    {
      "cell_type": "code",
      "execution_count": 32,
      "metadata": {
        "scrolled": true,
        "id": "pldnfHHR3z8Z",
        "outputId": "0c1eb153-9e3d-43ec-f28f-e64a2e06c514",
        "colab": {
          "base_uri": "https://localhost:8080/",
          "height": 206
        }
      },
      "outputs": [
        {
          "output_type": "execute_result",
          "data": {
            "text/plain": [
              "<pandas.io.formats.style.Styler at 0x7f4f8e9952d0>"
            ],
            "text/html": [
              "<style type=\"text/css\">\n",
              "#T_c95a4_row0_col0, #T_c95a4_row1_col0, #T_c95a4_row2_col0, #T_c95a4_row3_col0, #T_c95a4_row4_col0 {\n",
              "  background-color: #3b4cc0;\n",
              "  color: #f1f1f1;\n",
              "}\n",
              "</style>\n",
              "<table id=\"T_c95a4_\" class=\"dataframe\">\n",
              "  <thead>\n",
              "    <tr>\n",
              "      <th class=\"blank level0\" >&nbsp;</th>\n",
              "      <th class=\"col_heading level0 col0\" >percent_space</th>\n",
              "    </tr>\n",
              "  </thead>\n",
              "  <tbody>\n",
              "    <tr>\n",
              "      <th id=\"T_c95a4_level0_row0\" class=\"row_heading level0 row0\" >Пол</th>\n",
              "      <td id=\"T_c95a4_row0_col0\" class=\"data row0 col0\" >0.0</td>\n",
              "    </tr>\n",
              "    <tr>\n",
              "      <th id=\"T_c95a4_level0_row1\" class=\"row_heading level0 row1\" >Возраст</th>\n",
              "      <td id=\"T_c95a4_row1_col0\" class=\"data row1 col0\" >0.0</td>\n",
              "    </tr>\n",
              "    <tr>\n",
              "      <th id=\"T_c95a4_level0_row2\" class=\"row_heading level0 row2\" >Зарплата</th>\n",
              "      <td id=\"T_c95a4_row2_col0\" class=\"data row2 col0\" >0.0</td>\n",
              "    </tr>\n",
              "    <tr>\n",
              "      <th id=\"T_c95a4_level0_row3\" class=\"row_heading level0 row3\" >Члены семьи</th>\n",
              "      <td id=\"T_c95a4_row3_col0\" class=\"data row3 col0\" >0.0</td>\n",
              "    </tr>\n",
              "    <tr>\n",
              "      <th id=\"T_c95a4_level0_row4\" class=\"row_heading level0 row4\" >Страховые выплаты</th>\n",
              "      <td id=\"T_c95a4_row4_col0\" class=\"data row4 col0\" >0.0</td>\n",
              "    </tr>\n",
              "  </tbody>\n",
              "</table>\n"
            ]
          },
          "metadata": {},
          "execution_count": 32
        }
      ],
      "source": [
        "# Рассмотрим пропуски в процентах\n",
        "def isna_view (df):\n",
        "    return  (\n",
        "                (df.isna().mean()*100)\n",
        "                .sort_values(ascending=False)\n",
        "                .to_frame()\n",
        "                .rename(columns = {0:'percent_space'})\n",
        "                .style.background_gradient('coolwarm').format(\"{:.1f}\")\n",
        "            )\n",
        "\n",
        "isna_view (df)"
      ]
    },
    {
      "cell_type": "markdown",
      "metadata": {
        "id": "Rmwn3sJB3z8Z"
      },
      "source": [
        "**Пропуски отсутствуют**"
      ]
    },
    {
      "cell_type": "markdown",
      "metadata": {
        "id": "w75gzuS93z8a"
      },
      "source": [
        "### Типы данных"
      ]
    },
    {
      "cell_type": "markdown",
      "metadata": {
        "id": "DpyB1CX-3z8a"
      },
      "source": [
        "**Изменим тип данных столбцов \"Возраст\" и \"Зарплата\" на целочисленный**"
      ]
    },
    {
      "cell_type": "code",
      "execution_count": 33,
      "metadata": {
        "id": "eXgzES4l3z8a"
      },
      "outputs": [],
      "source": [
        "df['Возраст'] = df['Возраст'].astype('int')\n",
        "df['Зарплата'] = df['Зарплата'].astype('int')"
      ]
    },
    {
      "cell_type": "markdown",
      "metadata": {
        "id": "uWgoPAu_3z8b"
      },
      "source": [
        "### Целевой признак"
      ]
    },
    {
      "cell_type": "code",
      "execution_count": 34,
      "metadata": {
        "scrolled": true,
        "id": "lgGEqoe13z8b",
        "outputId": "bdc58528-4035-4e9c-bb19-c5291f87d64d",
        "colab": {
          "base_uri": "https://localhost:8080/",
          "height": 534
        }
      },
      "outputs": [
        {
          "output_type": "stream",
          "name": "stdout",
          "text": [
            "AxesSubplot(0.125,0.125;0.775x0.755)\n"
          ]
        },
        {
          "output_type": "execute_result",
          "data": {
            "text/plain": [
              "                   Зарплата\n",
              "Страховые выплаты          \n",
              "0                      4436\n",
              "1                       423\n",
              "2                       115\n",
              "3                        18\n",
              "4                         7\n",
              "5                         1"
            ],
            "text/html": [
              "\n",
              "  <div id=\"df-270779e9-e13b-47da-8651-4cf625221ba8\">\n",
              "    <div class=\"colab-df-container\">\n",
              "      <div>\n",
              "<style scoped>\n",
              "    .dataframe tbody tr th:only-of-type {\n",
              "        vertical-align: middle;\n",
              "    }\n",
              "\n",
              "    .dataframe tbody tr th {\n",
              "        vertical-align: top;\n",
              "    }\n",
              "\n",
              "    .dataframe thead th {\n",
              "        text-align: right;\n",
              "    }\n",
              "</style>\n",
              "<table border=\"1\" class=\"dataframe\">\n",
              "  <thead>\n",
              "    <tr style=\"text-align: right;\">\n",
              "      <th></th>\n",
              "      <th>Зарплата</th>\n",
              "    </tr>\n",
              "    <tr>\n",
              "      <th>Страховые выплаты</th>\n",
              "      <th></th>\n",
              "    </tr>\n",
              "  </thead>\n",
              "  <tbody>\n",
              "    <tr>\n",
              "      <th>0</th>\n",
              "      <td>4436</td>\n",
              "    </tr>\n",
              "    <tr>\n",
              "      <th>1</th>\n",
              "      <td>423</td>\n",
              "    </tr>\n",
              "    <tr>\n",
              "      <th>2</th>\n",
              "      <td>115</td>\n",
              "    </tr>\n",
              "    <tr>\n",
              "      <th>3</th>\n",
              "      <td>18</td>\n",
              "    </tr>\n",
              "    <tr>\n",
              "      <th>4</th>\n",
              "      <td>7</td>\n",
              "    </tr>\n",
              "    <tr>\n",
              "      <th>5</th>\n",
              "      <td>1</td>\n",
              "    </tr>\n",
              "  </tbody>\n",
              "</table>\n",
              "</div>\n",
              "      <button class=\"colab-df-convert\" onclick=\"convertToInteractive('df-270779e9-e13b-47da-8651-4cf625221ba8')\"\n",
              "              title=\"Convert this dataframe to an interactive table.\"\n",
              "              style=\"display:none;\">\n",
              "        \n",
              "  <svg xmlns=\"http://www.w3.org/2000/svg\" height=\"24px\"viewBox=\"0 0 24 24\"\n",
              "       width=\"24px\">\n",
              "    <path d=\"M0 0h24v24H0V0z\" fill=\"none\"/>\n",
              "    <path d=\"M18.56 5.44l.94 2.06.94-2.06 2.06-.94-2.06-.94-.94-2.06-.94 2.06-2.06.94zm-11 1L8.5 8.5l.94-2.06 2.06-.94-2.06-.94L8.5 2.5l-.94 2.06-2.06.94zm10 10l.94 2.06.94-2.06 2.06-.94-2.06-.94-.94-2.06-.94 2.06-2.06.94z\"/><path d=\"M17.41 7.96l-1.37-1.37c-.4-.4-.92-.59-1.43-.59-.52 0-1.04.2-1.43.59L10.3 9.45l-7.72 7.72c-.78.78-.78 2.05 0 2.83L4 21.41c.39.39.9.59 1.41.59.51 0 1.02-.2 1.41-.59l7.78-7.78 2.81-2.81c.8-.78.8-2.07 0-2.86zM5.41 20L4 18.59l7.72-7.72 1.47 1.35L5.41 20z\"/>\n",
              "  </svg>\n",
              "      </button>\n",
              "      \n",
              "  <style>\n",
              "    .colab-df-container {\n",
              "      display:flex;\n",
              "      flex-wrap:wrap;\n",
              "      gap: 12px;\n",
              "    }\n",
              "\n",
              "    .colab-df-convert {\n",
              "      background-color: #E8F0FE;\n",
              "      border: none;\n",
              "      border-radius: 50%;\n",
              "      cursor: pointer;\n",
              "      display: none;\n",
              "      fill: #1967D2;\n",
              "      height: 32px;\n",
              "      padding: 0 0 0 0;\n",
              "      width: 32px;\n",
              "    }\n",
              "\n",
              "    .colab-df-convert:hover {\n",
              "      background-color: #E2EBFA;\n",
              "      box-shadow: 0px 1px 2px rgba(60, 64, 67, 0.3), 0px 1px 3px 1px rgba(60, 64, 67, 0.15);\n",
              "      fill: #174EA6;\n",
              "    }\n",
              "\n",
              "    [theme=dark] .colab-df-convert {\n",
              "      background-color: #3B4455;\n",
              "      fill: #D2E3FC;\n",
              "    }\n",
              "\n",
              "    [theme=dark] .colab-df-convert:hover {\n",
              "      background-color: #434B5C;\n",
              "      box-shadow: 0px 1px 3px 1px rgba(0, 0, 0, 0.15);\n",
              "      filter: drop-shadow(0px 1px 2px rgba(0, 0, 0, 0.3));\n",
              "      fill: #FFFFFF;\n",
              "    }\n",
              "  </style>\n",
              "\n",
              "      <script>\n",
              "        const buttonEl =\n",
              "          document.querySelector('#df-270779e9-e13b-47da-8651-4cf625221ba8 button.colab-df-convert');\n",
              "        buttonEl.style.display =\n",
              "          google.colab.kernel.accessAllowed ? 'block' : 'none';\n",
              "\n",
              "        async function convertToInteractive(key) {\n",
              "          const element = document.querySelector('#df-270779e9-e13b-47da-8651-4cf625221ba8');\n",
              "          const dataTable =\n",
              "            await google.colab.kernel.invokeFunction('convertToInteractive',\n",
              "                                                     [key], {});\n",
              "          if (!dataTable) return;\n",
              "\n",
              "          const docLinkHtml = 'Like what you see? Visit the ' +\n",
              "            '<a target=\"_blank\" href=https://colab.research.google.com/notebooks/data_table.ipynb>data table notebook</a>'\n",
              "            + ' to learn more about interactive tables.';\n",
              "          element.innerHTML = '';\n",
              "          dataTable['output_type'] = 'display_data';\n",
              "          await google.colab.output.renderOutput(dataTable, element);\n",
              "          const docLink = document.createElement('div');\n",
              "          docLink.innerHTML = docLinkHtml;\n",
              "          element.appendChild(docLink);\n",
              "        }\n",
              "      </script>\n",
              "    </div>\n",
              "  </div>\n",
              "  "
            ]
          },
          "metadata": {},
          "execution_count": 34
        },
        {
          "output_type": "display_data",
          "data": {
            "text/plain": [
              "<Figure size 432x288 with 1 Axes>"
            ],
            "image/png": "[encoded data removed]"
          },
          "metadata": {
            "needs_background": "light"
          }
        }
      ],
      "source": [
        "print(df['Страховые выплаты'].hist(bins = 5))\n",
        "\n",
        "df.pivot_table(index = 'Страховые выплаты', aggfunc={'Зарплата': 'count'})"
      ]
    },
    {
      "cell_type": "markdown",
      "metadata": {
        "id": "gGo5vDxJ3z8b"
      },
      "source": [
        "**Почти 89% клиентов ни разу не получили страховые выплаты за последние 5 лет**"
      ]
    },
    {
      "cell_type": "markdown",
      "metadata": {
        "id": "4DJ_M18P3z8c"
      },
      "source": [
        "## Умножение матриц"
      ]
    },
    {
      "cell_type": "markdown",
      "metadata": {
        "id": "35yiWxVd3z8c"
      },
      "source": [
        "В этом задании вы можете записывать формулы в *Jupyter Notebook.*\n",
        "\n",
        "Чтобы записать формулу внутри текста, окружите её символами доллара \\\\$; если снаружи —  двойными символами \\\\$\\\\$. Эти формулы записываются на языке вёрстки *LaTeX.* \n",
        "\n",
        "Для примера мы записали формулы линейной регрессии. Можете их скопировать и отредактировать, чтобы решить задачу.\n",
        "\n",
        "Работать в *LaTeX* необязательно."
      ]
    },
    {
      "cell_type": "markdown",
      "metadata": {
        "id": "Ve5hYGTO3z8c"
      },
      "source": [
        "Обозначения:\n",
        "\n",
        "- $X$ — матрица признаков (нулевой столбец состоит из единиц)\n",
        "\n",
        "- $y$ — вектор целевого признака\n",
        "\n",
        "- $P$ — матрица, на которую умножаются признаки\n",
        "\n",
        "- $w$ — вектор весов линейной регрессии (нулевой элемент равен сдвигу)"
      ]
    },
    {
      "cell_type": "markdown",
      "metadata": {
        "id": "kMuRBxwf3z8d"
      },
      "source": [
        "Предсказания:\n",
        "\n",
        "$$\n",
        "a = Xw\n",
        "$$\n",
        "\n",
        "Задача обучения:\n",
        "\n",
        "$$\n",
        "w = \\arg\\min_w MSE(Xw, y)\n",
        "$$\n",
        "\n",
        "Формула обучения:\n",
        "\n",
        "$$\n",
        "w = (X^T X)^{-1} X^T y\n",
        "$$"
      ]
    },
    {
      "cell_type": "code",
      "execution_count": 35,
      "metadata": {
        "id": "wSWAbEaw3z8d"
      },
      "outputs": [],
      "source": [
        "features = df.drop(['Страховые выплаты'], axis = 1)\n",
        "target = df['Страховые выплаты']"
      ]
    },
    {
      "cell_type": "markdown",
      "metadata": {
        "id": "qH6S55Of3z8d"
      },
      "source": [
        "**Определим матрицу признаков и вектор целевого признака**"
      ]
    },
    {
      "cell_type": "markdown",
      "metadata": {
        "id": "dJwLNFfQ3z8e"
      },
      "source": [
        "В качестве нулевого столбца выступает столбец из единиц. Тогда сдвиг умножится на вектор $w$ и вектор предсказания можно будет считать по формуле $a = Xw$"
      ]
    },
    {
      "cell_type": "markdown",
      "metadata": {
        "id": "KNq1eyap3z8e"
      },
      "source": [
        "Проверим, изменится ли качество линейной регрессии при умножении матрицы признаков на некоторую обратимую матрицу  \n",
        "Уравнение предсказаний $a = Xw$  \n",
        "Пусть $Z$ - обратимая матрица, которая может быть умножена на матрицу признаков $X$  \n",
        "Тогда $F = XZ$  \n",
        "Уравнение предсказаний $a = Fw$  \n",
        "$w = (F^TF)^{-1}F^Ty$  \n",
        "$a = F(F^TF)^{-1}F^Ty$  \n",
        "\n",
        "Проведем замену $F$ на $XZ$  \n",
        "$a = XZ((XZ)^T(XZ))^{-1}(XZ)^Ty$ \n",
        "\n",
        "Упростим выражение:\n",
        "$$a = (X∙Z)∙((X∙Z)^T ∙(X∙Z))^{-1}∙(X∙Z)^T∙y = $$  \n",
        "$$= X∙Z∙((X∙Z)^T∙(X∙Z))^{-1}∙Z^T∙X^T∙y =$$  \n",
        "$$= X∙Z∙(Z^T∙X^T∙X∙Z)^{-1}∙Z^T∙X^T∙y$$  \n",
        "\n",
        "Воспользуемся свойством, что $(ABC)^{-1} = C^{-1} B^{-1} A^{-1}$  \n",
        "В нашем случае $A = Z^T$, $B = X^T X$, $C = Z$  \n",
        "\n",
        "Получаем выражение:\n",
        "$$X∙Z∙Z^{-1}∙(X^T∙X)^{-1}∙(Z^T)^{-1}∙Z^T∙X^T∙y$$  \n",
        "\n",
        "Произведения $Z∙Z^{-1}$ и $(Z^T)^{-1}∙Z^T$ дадут единичные матрицы $E$, которые при умножении на любую матрицу $L$ дадут матрицу $L$  \n",
        "Тогда:  \n",
        "$a = X[(X^TX)^{-1}X^Ty]$  \n",
        "\n",
        "Величина в квадратных скобках равна вектору весов до преобразований  \n",
        "($w = (X^TX)^{-1}X^Ty$)  \n",
        "Отсюда следует, что $a = Xw = Fw$, где $F = XZ$  \n",
        "Качество, соответственно, не изменится"
      ]
    },
    {
      "cell_type": "markdown",
      "metadata": {
        "id": "Vc1e9kpJ3z8e"
      },
      "source": [
        "**Ответ:** Качество линейной регрессии при умножении матрицы признаков на некоторую обратимую матрицу не изменится\n",
        "\n",
        "**Обоснование:** приведено выше"
      ]
    },
    {
      "cell_type": "markdown",
      "metadata": {
        "id": "QhSVEwws3z8f"
      },
      "source": [
        "## Алгоритм преобразования"
      ]
    },
    {
      "cell_type": "markdown",
      "metadata": {
        "id": "H-zC7sCF3z8f"
      },
      "source": [
        "**Алгоритм**\n",
        "\n",
        "1) Создание матрицы $Z$  \n",
        "2) Проверка на обратимость  \n",
        "3) Умножение матрицы признаков $X$ на матрицу $Z$  \n",
        "4) Расчет коэффициента детерминации $R2$"
      ]
    },
    {
      "cell_type": "markdown",
      "metadata": {
        "id": "bCFP__yC3z8g"
      },
      "source": [
        "**Обоснование**\n",
        "\n",
        "Так как выше было доказано, что путем умножения матрицы признаков на обратимую матрицу данные не изменятся, то для защиты информации будем умножать матрицу признаков $X$ на некую обратимую матрицу $Z$, такую, что произведение этих матриц будет иметь смысл.  \n",
        "Матрица $F$, равная $XZ$, должна иметь размерность такую же, как матрица признаков $X$, значит, т.к. размерность матрицы $X - (5000,4)$, то количество строк матрицы $Z$ должно быть равно количеству столбцов матрицы $X$, то есть четырем, а количество столбцов матрицы $Z$ должно быть также равно четырем, т.к. получившаяся матрица должна быть такой же размерности, как и $X$  \n",
        "Отсюда следует, что нужно создать обратимую квадратную матрицу $Z$ размера $(4,4)$  \n",
        "Квадратная матрица обратима тогда и только тогда, когда она невырожденная  \n",
        "Квадратная матрица называется невырожденной, если ее определитель не равен нулю"
      ]
    },
    {
      "cell_type": "markdown",
      "metadata": {
        "id": "fCg3mPkA3z8g"
      },
      "source": [
        "## Проверка алгоритма"
      ]
    },
    {
      "cell_type": "markdown",
      "metadata": {
        "id": "HsaxOhXH3z8h"
      },
      "source": [
        "### Модель без преобразования признаков"
      ]
    },
    {
      "cell_type": "code",
      "execution_count": 36,
      "metadata": {
        "id": "w8461VmY3z8h"
      },
      "outputs": [],
      "source": [
        "features_train, features_test, target_train, target_test = train_test_split(\\\n",
        "         features, target, test_size = 0.2)"
      ]
    },
    {
      "cell_type": "code",
      "execution_count": 37,
      "metadata": {
        "id": "tVaCY7yn3z8h",
        "outputId": "0c457b5e-0dfc-430b-e1ba-6193eb067da0",
        "colab": {
          "base_uri": "https://localhost:8080/"
        }
      },
      "outputs": [
        {
          "output_type": "stream",
          "name": "stdout",
          "text": [
            "Качество модели без внедрения технологии преобразования признаков:\n",
            "0.4177592071254206\n"
          ]
        }
      ],
      "source": [
        "model = LinearRegression()\n",
        "model.fit(features_train, target_train)\n",
        "predictions = model.predict(features_test)\n",
        "R2_1 = r2_score(target_test, predictions)\n",
        "\n",
        "print('Качество модели без внедрения технологии преобразования признаков:')\n",
        "print(R2_1)"
      ]
    },
    {
      "cell_type": "markdown",
      "metadata": {
        "id": "JPqwUpZ53z8i"
      },
      "source": [
        "### Модель с преобразованием признаков"
      ]
    },
    {
      "cell_type": "markdown",
      "metadata": {
        "id": "DKtsgZc03z8i"
      },
      "source": [
        "Создадим функцию преобразования признаков"
      ]
    },
    {
      "cell_type": "code",
      "execution_count": 38,
      "metadata": {
        "id": "z5EJCbff3z8i"
      },
      "outputs": [],
      "source": [
        "def transformation(features):\n",
        "    # Обозначим матрицу F - конечная матрица преобразованных признаков\n",
        "    X = features\n",
        "\n",
        "    # n - количество столбцов матрицы признаков\n",
        "    n = features.shape[1]\n",
        "    \n",
        "    # Создание рандомной квадратной матрицы Z с определенными размерами n*n\n",
        "    Z = np.random.randint(1, 10, (n,n))\n",
        "    \n",
        "    # Посчитаем определитель матрицы Z\n",
        "    det = np.linalg.det(Z)\n",
        "    \n",
        "    # До тех пор, пока определитель не станет отличным от нуля будем генерировать\n",
        "    # новую матрицу и считать ее определитель\n",
        "    # Квадратная матрица обратима тогда и только тогда, когда ее определитель отличен от нуля\n",
        "    while det == 0:\n",
        "        Z = np.random.randint(1, 10, (n,n))\n",
        "        det = np.linalg.det(Z)\n",
        "    \n",
        "    # Преобразуем признаки путем перемножения матрицы признаков на обратимую матрицу Z\n",
        "    F = X @ Z\n",
        "    return F,Z"
      ]
    },
    {
      "cell_type": "code",
      "execution_count": 39,
      "metadata": {
        "scrolled": false,
        "id": "imsfjVba3z8j",
        "outputId": "f6da0045-0746-4f3a-d5b5-982cf753ad74",
        "colab": {
          "base_uri": "https://localhost:8080/",
          "height": 528
        }
      },
      "outputs": [
        {
          "output_type": "display_data",
          "data": {
            "text/plain": [
              "           0      1      2       3\n",
              "0     248291  49975  49815   99461\n",
              "1     190324  38419  38238   76284\n",
              "2     105203  21261  21145   42174\n",
              "3     208651  41899  41821   83542\n",
              "4     130698  26353  26242   52375\n",
              "...      ...    ...    ...     ...\n",
              "4995  178700  35962  35856   71584\n",
              "4996  262240  52711  52578  105012\n",
              "4997  169644  34090  34016   67936\n",
              "4998  163662  32914  32836   65563\n",
              "4999  203200  40858  40750   81383\n",
              "\n",
              "[5000 rows x 4 columns]"
            ],
            "text/html": [
              "\n",
              "  <div id=\"df-b393dfeb-f10b-4aa0-a68e-7bc8025c0e59\">\n",
              "    <div class=\"colab-df-container\">\n",
              "      <div>\n",
              "<style scoped>\n",
              "    .dataframe tbody tr th:only-of-type {\n",
              "        vertical-align: middle;\n",
              "    }\n",
              "\n",
              "    .dataframe tbody tr th {\n",
              "        vertical-align: top;\n",
              "    }\n",
              "\n",
              "    .dataframe thead th {\n",
              "        text-align: right;\n",
              "    }\n",
              "</style>\n",
              "<table border=\"1\" class=\"dataframe\">\n",
              "  <thead>\n",
              "    <tr style=\"text-align: right;\">\n",
              "      <th></th>\n",
              "      <th>0</th>\n",
              "      <th>1</th>\n",
              "      <th>2</th>\n",
              "      <th>3</th>\n",
              "    </tr>\n",
              "  </thead>\n",
              "  <tbody>\n",
              "    <tr>\n",
              "      <th>0</th>\n",
              "      <td>248291</td>\n",
              "      <td>49975</td>\n",
              "      <td>49815</td>\n",
              "      <td>99461</td>\n",
              "    </tr>\n",
              "    <tr>\n",
              "      <th>1</th>\n",
              "      <td>190324</td>\n",
              "      <td>38419</td>\n",
              "      <td>38238</td>\n",
              "      <td>76284</td>\n",
              "    </tr>\n",
              "    <tr>\n",
              "      <th>2</th>\n",
              "      <td>105203</td>\n",
              "      <td>21261</td>\n",
              "      <td>21145</td>\n",
              "      <td>42174</td>\n",
              "    </tr>\n",
              "    <tr>\n",
              "      <th>3</th>\n",
              "      <td>208651</td>\n",
              "      <td>41899</td>\n",
              "      <td>41821</td>\n",
              "      <td>83542</td>\n",
              "    </tr>\n",
              "    <tr>\n",
              "      <th>4</th>\n",
              "      <td>130698</td>\n",
              "      <td>26353</td>\n",
              "      <td>26242</td>\n",
              "      <td>52375</td>\n",
              "    </tr>\n",
              "    <tr>\n",
              "      <th>...</th>\n",
              "      <td>...</td>\n",
              "      <td>...</td>\n",
              "      <td>...</td>\n",
              "      <td>...</td>\n",
              "    </tr>\n",
              "    <tr>\n",
              "      <th>4995</th>\n",
              "      <td>178700</td>\n",
              "      <td>35962</td>\n",
              "      <td>35856</td>\n",
              "      <td>71584</td>\n",
              "    </tr>\n",
              "    <tr>\n",
              "      <th>4996</th>\n",
              "      <td>262240</td>\n",
              "      <td>52711</td>\n",
              "      <td>52578</td>\n",
              "      <td>105012</td>\n",
              "    </tr>\n",
              "    <tr>\n",
              "      <th>4997</th>\n",
              "      <td>169644</td>\n",
              "      <td>34090</td>\n",
              "      <td>34016</td>\n",
              "      <td>67936</td>\n",
              "    </tr>\n",
              "    <tr>\n",
              "      <th>4998</th>\n",
              "      <td>163662</td>\n",
              "      <td>32914</td>\n",
              "      <td>32836</td>\n",
              "      <td>65563</td>\n",
              "    </tr>\n",
              "    <tr>\n",
              "      <th>4999</th>\n",
              "      <td>203200</td>\n",
              "      <td>40858</td>\n",
              "      <td>40750</td>\n",
              "      <td>81383</td>\n",
              "    </tr>\n",
              "  </tbody>\n",
              "</table>\n",
              "<p>5000 rows × 4 columns</p>\n",
              "</div>\n",
              "      <button class=\"colab-df-convert\" onclick=\"convertToInteractive('df-b393dfeb-f10b-4aa0-a68e-7bc8025c0e59')\"\n",
              "              title=\"Convert this dataframe to an interactive table.\"\n",
              "              style=\"display:none;\">\n",
              "        \n",
              "  <svg xmlns=\"http://www.w3.org/2000/svg\" height=\"24px\"viewBox=\"0 0 24 24\"\n",
              "       width=\"24px\">\n",
              "    <path d=\"M0 0h24v24H0V0z\" fill=\"none\"/>\n",
              "    <path d=\"M18.56 5.44l.94 2.06.94-2.06 2.06-.94-2.06-.94-.94-2.06-.94 2.06-2.06.94zm-11 1L8.5 8.5l.94-2.06 2.06-.94-2.06-.94L8.5 2.5l-.94 2.06-2.06.94zm10 10l.94 2.06.94-2.06 2.06-.94-2.06-.94-.94-2.06-.94 2.06-2.06.94z\"/><path d=\"M17.41 7.96l-1.37-1.37c-.4-.4-.92-.59-1.43-.59-.52 0-1.04.2-1.43.59L10.3 9.45l-7.72 7.72c-.78.78-.78 2.05 0 2.83L4 21.41c.39.39.9.59 1.41.59.51 0 1.02-.2 1.41-.59l7.78-7.78 2.81-2.81c.8-.78.8-2.07 0-2.86zM5.41 20L4 18.59l7.72-7.72 1.47 1.35L5.41 20z\"/>\n",
              "  </svg>\n",
              "      </button>\n",
              "      \n",
              "  <style>\n",
              "    .colab-df-container {\n",
              "      display:flex;\n",
              "      flex-wrap:wrap;\n",
              "      gap: 12px;\n",
              "    }\n",
              "\n",
              "    .colab-df-convert {\n",
              "      background-color: #E8F0FE;\n",
              "      border: none;\n",
              "      border-radius: 50%;\n",
              "      cursor: pointer;\n",
              "      display: none;\n",
              "      fill: #1967D2;\n",
              "      height: 32px;\n",
              "      padding: 0 0 0 0;\n",
              "      width: 32px;\n",
              "    }\n",
              "\n",
              "    .colab-df-convert:hover {\n",
              "      background-color: #E2EBFA;\n",
              "      box-shadow: 0px 1px 2px rgba(60, 64, 67, 0.3), 0px 1px 3px 1px rgba(60, 64, 67, 0.15);\n",
              "      fill: #174EA6;\n",
              "    }\n",
              "\n",
              "    [theme=dark] .colab-df-convert {\n",
              "      background-color: #3B4455;\n",
              "      fill: #D2E3FC;\n",
              "    }\n",
              "\n",
              "    [theme=dark] .colab-df-convert:hover {\n",
              "      background-color: #434B5C;\n",
              "      box-shadow: 0px 1px 3px 1px rgba(0, 0, 0, 0.15);\n",
              "      filter: drop-shadow(0px 1px 2px rgba(0, 0, 0, 0.3));\n",
              "      fill: #FFFFFF;\n",
              "    }\n",
              "  </style>\n",
              "\n",
              "      <script>\n",
              "        const buttonEl =\n",
              "          document.querySelector('#df-b393dfeb-f10b-4aa0-a68e-7bc8025c0e59 button.colab-df-convert');\n",
              "        buttonEl.style.display =\n",
              "          google.colab.kernel.accessAllowed ? 'block' : 'none';\n",
              "\n",
              "        async function convertToInteractive(key) {\n",
              "          const element = document.querySelector('#df-b393dfeb-f10b-4aa0-a68e-7bc8025c0e59');\n",
              "          const dataTable =\n",
              "            await google.colab.kernel.invokeFunction('convertToInteractive',\n",
              "                                                     [key], {});\n",
              "          if (!dataTable) return;\n",
              "\n",
              "          const docLinkHtml = 'Like what you see? Visit the ' +\n",
              "            '<a target=\"_blank\" href=https://colab.research.google.com/notebooks/data_table.ipynb>data table notebook</a>'\n",
              "            + ' to learn more about interactive tables.';\n",
              "          element.innerHTML = '';\n",
              "          dataTable['output_type'] = 'display_data';\n",
              "          await google.colab.output.renderOutput(dataTable, element);\n",
              "          const docLink = document.createElement('div');\n",
              "          docLink.innerHTML = docLinkHtml;\n",
              "          element.appendChild(docLink);\n",
              "        }\n",
              "      </script>\n",
              "    </div>\n",
              "  </div>\n",
              "  "
            ]
          },
          "metadata": {}
        },
        {
          "output_type": "stream",
          "name": "stdout",
          "text": [
            "----------------------------------------\n",
            "   0  1  2  3\n",
            "0  2  1  2  7\n",
            "1  7  9  5  6\n",
            "2  5  1  1  2\n",
            "3  2  5  8  8\n"
          ]
        }
      ],
      "source": [
        "features_transform, Z = transformation(features)\n",
        "display(features_transform)\n",
        "print('-'*40)\n",
        "print(pd.DataFrame(Z))"
      ]
    },
    {
      "cell_type": "markdown",
      "metadata": {
        "id": "lMZl4H1X3z8j"
      },
      "source": [
        "Данные сильно изменились и по ним вряд ли можно что то понять. Значит, функция справилась с задачей"
      ]
    },
    {
      "cell_type": "code",
      "execution_count": 40,
      "metadata": {
        "id": "QMUsrUWa3z8j"
      },
      "outputs": [],
      "source": [
        "features_train, features_test, target_train, target_test = train_test_split(\\\n",
        "         features_transform, target, test_size = 0.2)"
      ]
    },
    {
      "cell_type": "code",
      "execution_count": 41,
      "metadata": {
        "id": "twiH4K_p3z8k",
        "outputId": "7cd54d75-43d2-4490-cf59-38714a39a645",
        "colab": {
          "base_uri": "https://localhost:8080/"
        }
      },
      "outputs": [
        {
          "output_type": "stream",
          "name": "stdout",
          "text": [
            "Качество модели c внедрением технологии преобразования признаков:\n",
            "0.41016674802971076\n"
          ]
        }
      ],
      "source": [
        "model = LinearRegression()\n",
        "model.fit(features_train, target_train)\n",
        "predictions = model.predict(features_test)\n",
        "R2_2 = r2_score(target_test, predictions)\n",
        "\n",
        "print('Качество модели c внедрением технологии преобразования признаков:')\n",
        "print(R2_2)"
      ]
    },
    {
      "cell_type": "markdown",
      "metadata": {
        "id": "j5vSdodt3z8l"
      },
      "source": [
        "**Вывод:**  \n",
        "- Проведена предобработка данных\n",
        "- Решена задача по защите информации путем умножения матрицы признаков на обратимую матрицу\n",
        "- Создан алгоритм на основе данной задачи\n",
        "- Построено две модели линейной регрессии:  \n",
        "1) Без технологии защиты информации  \n",
        "2) С технологией защиты информации  "
      ]
    },
    {
      "cell_type": "markdown",
      "metadata": {
        "id": "1DNsGb-U3z8m"
      },
      "source": [
        "Так как во втором способе матрица создается путем random.randint качество является не постоянной величиной, но, в целом, коэффициент детерминации не сильно меняется. Плюс такого способа в том, что матрица каждый раз новая и данные клиентов сложнее расшифровать. Минус же в незначительной потере качества.   \n",
        "Таким образом, можно сделать вывод, что модель с задачей справляется и технология защиты информации работает корректно"
      ]
    }
  ],
  "metadata": {
    "ExecuteTimeLog": [
      {
        "duration": 391,
        "start_time": "2022-10-21T10:18:10.450Z"
      },
      {
        "duration": 95,
        "start_time": "2022-10-21T10:18:33.676Z"
      },
      {
        "duration": 3,
        "start_time": "2022-10-21T10:20:03.951Z"
      },
      {
        "duration": 36,
        "start_time": "2022-10-21T10:20:12.823Z"
      },
      {
        "duration": 3,
        "start_time": "2022-10-21T10:20:50.377Z"
      },
      {
        "duration": 39,
        "start_time": "2022-10-21T10:20:51.871Z"
      },
      {
        "duration": 460,
        "start_time": "2022-10-21T10:22:37.765Z"
      },
      {
        "duration": 7,
        "start_time": "2022-10-21T10:22:51.008Z"
      },
      {
        "duration": 138,
        "start_time": "2022-10-21T10:24:14.792Z"
      },
      {
        "duration": 107,
        "start_time": "2022-10-21T10:24:32.712Z"
      },
      {
        "duration": 107,
        "start_time": "2022-10-21T10:24:49.966Z"
      },
      {
        "duration": 171,
        "start_time": "2022-10-21T10:25:48.731Z"
      },
      {
        "duration": 98,
        "start_time": "2022-10-21T10:25:54.807Z"
      },
      {
        "duration": 187,
        "start_time": "2022-10-21T10:26:48.742Z"
      },
      {
        "duration": 115,
        "start_time": "2022-10-21T10:27:10.564Z"
      },
      {
        "duration": 118,
        "start_time": "2022-10-21T10:27:22.938Z"
      },
      {
        "duration": 121,
        "start_time": "2022-10-21T10:28:08.557Z"
      },
      {
        "duration": 120,
        "start_time": "2022-10-21T10:29:22.681Z"
      },
      {
        "duration": 131,
        "start_time": "2022-10-21T10:29:41.061Z"
      },
      {
        "duration": 142,
        "start_time": "2022-10-21T10:30:33.230Z"
      },
      {
        "duration": 117,
        "start_time": "2022-10-21T10:30:41.840Z"
      },
      {
        "duration": 127,
        "start_time": "2022-10-21T10:32:20.859Z"
      },
      {
        "duration": 73,
        "start_time": "2022-10-21T10:32:27.947Z"
      },
      {
        "duration": 119,
        "start_time": "2022-10-21T10:32:35.605Z"
      },
      {
        "duration": 114,
        "start_time": "2022-10-21T10:32:41.011Z"
      },
      {
        "duration": 186,
        "start_time": "2022-10-21T10:32:49.602Z"
      },
      {
        "duration": 118,
        "start_time": "2022-10-21T10:32:55.677Z"
      },
      {
        "duration": 130,
        "start_time": "2022-10-21T10:32:59.587Z"
      },
      {
        "duration": 50905,
        "start_time": "2022-10-21T10:35:07.793Z"
      },
      {
        "duration": 1193,
        "start_time": "2022-10-21T10:36:25.541Z"
      },
      {
        "duration": 216,
        "start_time": "2022-10-21T10:36:34.941Z"
      },
      {
        "duration": 417,
        "start_time": "2022-10-21T10:38:12.965Z"
      },
      {
        "duration": 419,
        "start_time": "2022-10-21T10:38:23.817Z"
      },
      {
        "duration": 636,
        "start_time": "2022-10-21T10:38:29.373Z"
      },
      {
        "duration": 582,
        "start_time": "2022-10-21T10:38:36.197Z"
      },
      {
        "duration": 629,
        "start_time": "2022-10-21T10:38:41.623Z"
      },
      {
        "duration": 3,
        "start_time": "2022-10-21T10:39:16.992Z"
      },
      {
        "duration": 665,
        "start_time": "2022-10-21T10:39:18.657Z"
      },
      {
        "duration": 83,
        "start_time": "2022-10-21T10:43:45.714Z"
      },
      {
        "duration": 128,
        "start_time": "2022-10-21T10:43:52.781Z"
      },
      {
        "duration": 5,
        "start_time": "2022-10-21T12:10:33.965Z"
      },
      {
        "duration": 4,
        "start_time": "2022-10-21T12:10:51.498Z"
      },
      {
        "duration": 8,
        "start_time": "2022-10-21T12:11:06.237Z"
      },
      {
        "duration": 5,
        "start_time": "2022-10-21T12:11:10.081Z"
      },
      {
        "duration": 122,
        "start_time": "2022-10-21T12:11:17.696Z"
      },
      {
        "duration": 8,
        "start_time": "2022-10-21T12:13:25.998Z"
      },
      {
        "duration": 3,
        "start_time": "2022-10-21T12:13:40.698Z"
      },
      {
        "duration": 7,
        "start_time": "2022-10-21T12:13:44.815Z"
      },
      {
        "duration": 132,
        "start_time": "2022-10-21T12:14:08.959Z"
      },
      {
        "duration": 7,
        "start_time": "2022-10-21T12:15:36.378Z"
      },
      {
        "duration": 8,
        "start_time": "2022-10-21T12:15:41.414Z"
      },
      {
        "duration": 6,
        "start_time": "2022-10-21T12:16:02.874Z"
      },
      {
        "duration": 7,
        "start_time": "2022-10-21T12:18:47.299Z"
      },
      {
        "duration": 9,
        "start_time": "2022-10-21T12:18:58.922Z"
      },
      {
        "duration": 3,
        "start_time": "2022-10-21T12:19:03.546Z"
      },
      {
        "duration": 5,
        "start_time": "2022-10-21T12:19:08.420Z"
      },
      {
        "duration": 5,
        "start_time": "2022-10-21T12:19:21.243Z"
      },
      {
        "duration": 5,
        "start_time": "2022-10-21T12:19:25.796Z"
      },
      {
        "duration": 4,
        "start_time": "2022-10-21T12:23:01.270Z"
      },
      {
        "duration": 757,
        "start_time": "2022-10-21T12:27:55.945Z"
      },
      {
        "duration": 3,
        "start_time": "2022-10-21T12:28:27.207Z"
      },
      {
        "duration": 9,
        "start_time": "2022-10-21T12:29:12.391Z"
      },
      {
        "duration": 45,
        "start_time": "2022-10-21T12:29:23.287Z"
      },
      {
        "duration": 7,
        "start_time": "2022-10-21T12:29:27.506Z"
      },
      {
        "duration": 7,
        "start_time": "2022-10-21T12:34:57.166Z"
      },
      {
        "duration": 1071,
        "start_time": "2022-10-21T12:35:15.488Z"
      },
      {
        "duration": 4,
        "start_time": "2022-10-21T13:05:57.409Z"
      },
      {
        "duration": 5,
        "start_time": "2022-10-21T13:06:08.949Z"
      },
      {
        "duration": 10,
        "start_time": "2022-10-21T13:14:10.347Z"
      },
      {
        "duration": 10,
        "start_time": "2022-10-21T13:15:14.564Z"
      },
      {
        "duration": 8,
        "start_time": "2022-10-21T13:15:47.029Z"
      },
      {
        "duration": 2,
        "start_time": "2022-10-21T13:15:54.757Z"
      },
      {
        "duration": 107,
        "start_time": "2022-10-21T13:16:06.968Z"
      },
      {
        "duration": 90,
        "start_time": "2022-10-21T13:17:15.196Z"
      },
      {
        "duration": 79,
        "start_time": "2022-10-21T13:17:27.144Z"
      },
      {
        "duration": 4,
        "start_time": "2022-10-21T15:21:41.537Z"
      },
      {
        "duration": 27,
        "start_time": "2022-10-21T15:21:41.826Z"
      },
      {
        "duration": 5,
        "start_time": "2022-10-21T15:21:42.373Z"
      },
      {
        "duration": 658,
        "start_time": "2022-10-21T15:21:42.798Z"
      },
      {
        "duration": 14,
        "start_time": "2022-10-21T15:21:44.212Z"
      },
      {
        "duration": 5,
        "start_time": "2022-10-21T15:21:45.644Z"
      },
      {
        "duration": 637,
        "start_time": "2022-10-21T15:21:46.264Z"
      },
      {
        "duration": 133,
        "start_time": "2022-10-21T15:22:04.101Z"
      },
      {
        "duration": 4,
        "start_time": "2022-10-21T15:22:10.362Z"
      },
      {
        "duration": 3,
        "start_time": "2022-10-21T15:22:12.957Z"
      },
      {
        "duration": 3,
        "start_time": "2022-10-21T18:37:54.148Z"
      },
      {
        "duration": 27,
        "start_time": "2022-10-21T18:37:54.429Z"
      },
      {
        "duration": 4,
        "start_time": "2022-10-21T18:37:54.908Z"
      },
      {
        "duration": 662,
        "start_time": "2022-10-21T18:37:55.188Z"
      },
      {
        "duration": 16,
        "start_time": "2022-10-21T18:37:55.980Z"
      },
      {
        "duration": 5,
        "start_time": "2022-10-21T18:37:57.013Z"
      },
      {
        "duration": 124,
        "start_time": "2022-10-21T18:37:57.476Z"
      },
      {
        "duration": 5,
        "start_time": "2022-10-21T18:37:59.217Z"
      },
      {
        "duration": 4,
        "start_time": "2022-10-21T18:38:00.148Z"
      },
      {
        "duration": 5,
        "start_time": "2022-10-21T18:50:46.016Z"
      },
      {
        "duration": 3,
        "start_time": "2022-10-21T19:00:18.977Z"
      },
      {
        "duration": 6,
        "start_time": "2022-10-21T19:01:46.851Z"
      },
      {
        "duration": 11,
        "start_time": "2022-10-21T19:03:09.998Z"
      },
      {
        "duration": 10,
        "start_time": "2022-10-21T19:04:45.532Z"
      },
      {
        "duration": 13,
        "start_time": "2022-10-21T19:04:51.763Z"
      },
      {
        "duration": 10,
        "start_time": "2022-10-21T19:05:02.495Z"
      },
      {
        "duration": 75,
        "start_time": "2022-10-21T19:08:14.433Z"
      },
      {
        "duration": 3,
        "start_time": "2022-10-21T19:08:19.900Z"
      },
      {
        "duration": 3,
        "start_time": "2022-10-21T19:12:31.312Z"
      },
      {
        "duration": 6,
        "start_time": "2022-10-21T19:12:33.995Z"
      },
      {
        "duration": 11,
        "start_time": "2022-10-21T19:12:46.224Z"
      },
      {
        "duration": 12,
        "start_time": "2022-10-21T19:12:56.424Z"
      },
      {
        "duration": 5,
        "start_time": "2022-10-21T19:13:23.596Z"
      },
      {
        "duration": 9,
        "start_time": "2022-10-21T19:13:46.384Z"
      },
      {
        "duration": 4,
        "start_time": "2022-10-21T19:16:31.469Z"
      },
      {
        "duration": 3,
        "start_time": "2022-10-21T19:16:47.141Z"
      },
      {
        "duration": 12,
        "start_time": "2022-10-21T19:16:51.656Z"
      },
      {
        "duration": 9,
        "start_time": "2022-10-21T19:18:27.235Z"
      },
      {
        "duration": 26,
        "start_time": "2022-10-21T19:18:39.186Z"
      },
      {
        "duration": 5,
        "start_time": "2022-10-21T19:18:39.747Z"
      },
      {
        "duration": 633,
        "start_time": "2022-10-21T19:18:39.805Z"
      },
      {
        "duration": 15,
        "start_time": "2022-10-21T19:18:40.441Z"
      },
      {
        "duration": 6,
        "start_time": "2022-10-21T19:18:40.458Z"
      },
      {
        "duration": 147,
        "start_time": "2022-10-21T19:18:40.466Z"
      },
      {
        "duration": 5,
        "start_time": "2022-10-21T19:18:40.614Z"
      },
      {
        "duration": 4,
        "start_time": "2022-10-21T19:18:40.621Z"
      },
      {
        "duration": 7,
        "start_time": "2022-10-21T19:18:40.765Z"
      },
      {
        "duration": 12,
        "start_time": "2022-10-21T19:18:40.786Z"
      },
      {
        "duration": 4,
        "start_time": "2022-10-21T19:18:40.928Z"
      },
      {
        "duration": 6,
        "start_time": "2022-10-21T19:18:40.967Z"
      },
      {
        "duration": 7,
        "start_time": "2022-10-21T19:18:45.615Z"
      },
      {
        "duration": 5,
        "start_time": "2022-10-21T19:19:17.794Z"
      },
      {
        "duration": 5,
        "start_time": "2022-10-21T19:19:25.147Z"
      },
      {
        "duration": 4,
        "start_time": "2022-10-21T19:19:27.769Z"
      },
      {
        "duration": 5,
        "start_time": "2022-10-21T19:22:38.239Z"
      },
      {
        "duration": 14,
        "start_time": "2022-10-21T19:22:47.535Z"
      },
      {
        "duration": 4,
        "start_time": "2022-10-21T19:22:59.401Z"
      },
      {
        "duration": 16,
        "start_time": "2022-10-21T19:23:00.988Z"
      },
      {
        "duration": 9,
        "start_time": "2022-10-21T19:23:26.638Z"
      },
      {
        "duration": 12,
        "start_time": "2022-10-21T19:23:28.286Z"
      },
      {
        "duration": 5,
        "start_time": "2022-10-21T19:23:47.837Z"
      },
      {
        "duration": 4,
        "start_time": "2022-10-21T19:23:48.213Z"
      },
      {
        "duration": 7,
        "start_time": "2022-10-21T19:23:48.759Z"
      },
      {
        "duration": 74,
        "start_time": "2022-10-21T19:23:49.171Z"
      },
      {
        "duration": 10,
        "start_time": "2022-10-21T19:23:53.075Z"
      },
      {
        "duration": 3,
        "start_time": "2022-10-21T19:25:00.533Z"
      },
      {
        "duration": 5,
        "start_time": "2022-10-21T19:25:01.507Z"
      },
      {
        "duration": 13,
        "start_time": "2022-10-21T19:25:35.665Z"
      },
      {
        "duration": 14,
        "start_time": "2022-10-21T19:25:44.221Z"
      },
      {
        "duration": 11,
        "start_time": "2022-10-21T19:26:07.281Z"
      },
      {
        "duration": 4,
        "start_time": "2022-10-21T19:27:41.412Z"
      },
      {
        "duration": 4,
        "start_time": "2022-10-21T19:27:42.036Z"
      },
      {
        "duration": 14,
        "start_time": "2022-10-21T19:27:43.057Z"
      },
      {
        "duration": 4,
        "start_time": "2022-10-21T19:27:52.278Z"
      },
      {
        "duration": 5,
        "start_time": "2022-10-21T19:27:52.782Z"
      },
      {
        "duration": 12,
        "start_time": "2022-10-21T19:27:53.261Z"
      },
      {
        "duration": 4,
        "start_time": "2022-10-21T19:28:00.763Z"
      },
      {
        "duration": 5,
        "start_time": "2022-10-21T19:28:01.175Z"
      },
      {
        "duration": 9,
        "start_time": "2022-10-21T19:28:01.520Z"
      },
      {
        "duration": 4,
        "start_time": "2022-10-21T19:29:18.281Z"
      },
      {
        "duration": 5,
        "start_time": "2022-10-21T19:29:18.747Z"
      },
      {
        "duration": 12,
        "start_time": "2022-10-21T19:29:19.080Z"
      },
      {
        "duration": 5,
        "start_time": "2022-10-21T19:30:58.179Z"
      },
      {
        "duration": 4,
        "start_time": "2022-10-21T19:32:18.882Z"
      },
      {
        "duration": 5,
        "start_time": "2022-10-21T19:32:19.611Z"
      },
      {
        "duration": 10,
        "start_time": "2022-10-21T19:32:19.995Z"
      },
      {
        "duration": 5,
        "start_time": "2022-10-21T19:32:36.456Z"
      },
      {
        "duration": 4,
        "start_time": "2022-10-21T19:32:37.186Z"
      },
      {
        "duration": 13,
        "start_time": "2022-10-21T19:32:37.523Z"
      },
      {
        "duration": 6,
        "start_time": "2022-10-21T19:36:48.158Z"
      },
      {
        "duration": 5,
        "start_time": "2022-10-21T19:36:48.709Z"
      },
      {
        "duration": 10,
        "start_time": "2022-10-21T19:36:49.040Z"
      },
      {
        "duration": 5,
        "start_time": "2022-10-21T19:36:59.925Z"
      },
      {
        "duration": 4,
        "start_time": "2022-10-21T19:37:40.751Z"
      },
      {
        "duration": 4,
        "start_time": "2022-10-21T19:37:41.550Z"
      },
      {
        "duration": 10,
        "start_time": "2022-10-21T19:37:41.914Z"
      },
      {
        "duration": 10,
        "start_time": "2022-10-21T19:40:45.315Z"
      },
      {
        "duration": 67,
        "start_time": "2022-10-21T19:41:29.671Z"
      },
      {
        "duration": 12,
        "start_time": "2022-10-21T19:41:33.267Z"
      },
      {
        "duration": 12,
        "start_time": "2022-10-21T19:41:48.966Z"
      },
      {
        "duration": 12,
        "start_time": "2022-10-21T19:41:55.270Z"
      },
      {
        "duration": 12,
        "start_time": "2022-10-21T19:42:02.453Z"
      },
      {
        "duration": 6,
        "start_time": "2022-10-21T19:44:06.214Z"
      },
      {
        "duration": 10,
        "start_time": "2022-10-21T19:44:06.763Z"
      },
      {
        "duration": 10,
        "start_time": "2022-10-21T19:45:41.058Z"
      },
      {
        "duration": 9,
        "start_time": "2022-10-21T19:46:01.975Z"
      },
      {
        "duration": 2,
        "start_time": "2022-10-21T19:46:10.764Z"
      },
      {
        "duration": 27,
        "start_time": "2022-10-21T19:46:10.800Z"
      },
      {
        "duration": 3,
        "start_time": "2022-10-21T19:46:10.875Z"
      },
      {
        "duration": 641,
        "start_time": "2022-10-21T19:46:10.932Z"
      },
      {
        "duration": 23,
        "start_time": "2022-10-21T19:46:11.575Z"
      },
      {
        "duration": 12,
        "start_time": "2022-10-21T19:46:11.600Z"
      },
      {
        "duration": 153,
        "start_time": "2022-10-21T19:46:11.615Z"
      },
      {
        "duration": 4,
        "start_time": "2022-10-21T19:46:11.769Z"
      },
      {
        "duration": 16,
        "start_time": "2022-10-21T19:46:11.775Z"
      },
      {
        "duration": 5,
        "start_time": "2022-10-21T19:46:13.496Z"
      },
      {
        "duration": 12,
        "start_time": "2022-10-21T19:46:13.809Z"
      },
      {
        "duration": 5,
        "start_time": "2022-10-21T19:46:16.779Z"
      },
      {
        "duration": 11,
        "start_time": "2022-10-21T19:46:17.426Z"
      },
      {
        "duration": 4,
        "start_time": "2022-10-21T19:46:19.160Z"
      },
      {
        "duration": 10,
        "start_time": "2022-10-21T19:46:19.724Z"
      },
      {
        "duration": 8,
        "start_time": "2022-10-21T19:46:42.183Z"
      },
      {
        "duration": 4,
        "start_time": "2022-10-21T19:46:51.508Z"
      },
      {
        "duration": 27,
        "start_time": "2022-10-21T19:46:52.032Z"
      },
      {
        "duration": 4,
        "start_time": "2022-10-21T19:46:52.107Z"
      },
      {
        "duration": 613,
        "start_time": "2022-10-21T19:46:52.151Z"
      },
      {
        "duration": 12,
        "start_time": "2022-10-21T19:46:52.766Z"
      },
      {
        "duration": 5,
        "start_time": "2022-10-21T19:46:52.791Z"
      },
      {
        "duration": 123,
        "start_time": "2022-10-21T19:46:52.798Z"
      },
      {
        "duration": 4,
        "start_time": "2022-10-21T19:46:55.233Z"
      },
      {
        "duration": 3,
        "start_time": "2022-10-21T19:46:56.359Z"
      },
      {
        "duration": 5,
        "start_time": "2022-10-21T19:46:59.925Z"
      },
      {
        "duration": 9,
        "start_time": "2022-10-21T19:47:00.371Z"
      },
      {
        "duration": 4,
        "start_time": "2022-10-21T19:47:06.873Z"
      },
      {
        "duration": 11,
        "start_time": "2022-10-21T19:47:07.756Z"
      },
      {
        "duration": 4,
        "start_time": "2022-10-21T19:47:24.587Z"
      },
      {
        "duration": 9,
        "start_time": "2022-10-21T19:47:26.240Z"
      },
      {
        "duration": 3,
        "start_time": "2022-10-21T19:48:24.783Z"
      },
      {
        "duration": 27,
        "start_time": "2022-10-21T19:48:24.987Z"
      },
      {
        "duration": 3,
        "start_time": "2022-10-21T19:48:25.404Z"
      },
      {
        "duration": 576,
        "start_time": "2022-10-21T19:48:25.619Z"
      },
      {
        "duration": 12,
        "start_time": "2022-10-21T19:48:26.384Z"
      },
      {
        "duration": 4,
        "start_time": "2022-10-21T19:48:27.724Z"
      },
      {
        "duration": 112,
        "start_time": "2022-10-21T19:48:28.260Z"
      },
      {
        "duration": 5,
        "start_time": "2022-10-21T19:48:31.150Z"
      },
      {
        "duration": 3,
        "start_time": "2022-10-21T19:48:33.012Z"
      },
      {
        "duration": 6,
        "start_time": "2022-10-21T19:48:37.063Z"
      },
      {
        "duration": 9,
        "start_time": "2022-10-21T19:48:37.671Z"
      },
      {
        "duration": 4,
        "start_time": "2022-10-21T19:48:43.487Z"
      },
      {
        "duration": 11,
        "start_time": "2022-10-21T19:48:45.054Z"
      },
      {
        "duration": 5,
        "start_time": "2022-10-21T19:48:48.998Z"
      },
      {
        "duration": 8,
        "start_time": "2022-10-21T19:48:49.398Z"
      },
      {
        "duration": 3,
        "start_time": "2022-10-21T19:49:37.331Z"
      },
      {
        "duration": 12,
        "start_time": "2022-10-21T19:49:38.023Z"
      },
      {
        "duration": 5,
        "start_time": "2022-10-21T19:49:39.503Z"
      },
      {
        "duration": 9,
        "start_time": "2022-10-21T19:49:40.142Z"
      },
      {
        "duration": 3,
        "start_time": "2022-10-21T19:49:44.752Z"
      },
      {
        "duration": 26,
        "start_time": "2022-10-21T19:49:44.789Z"
      },
      {
        "duration": 3,
        "start_time": "2022-10-21T19:49:44.864Z"
      },
      {
        "duration": 592,
        "start_time": "2022-10-21T19:49:44.947Z"
      },
      {
        "duration": 12,
        "start_time": "2022-10-21T19:49:45.541Z"
      },
      {
        "duration": 22,
        "start_time": "2022-10-21T19:49:45.554Z"
      },
      {
        "duration": 114,
        "start_time": "2022-10-21T19:49:45.578Z"
      },
      {
        "duration": 4,
        "start_time": "2022-10-21T19:49:45.694Z"
      },
      {
        "duration": 38,
        "start_time": "2022-10-21T19:49:45.699Z"
      },
      {
        "duration": 5,
        "start_time": "2022-10-21T19:49:45.878Z"
      },
      {
        "duration": 8,
        "start_time": "2022-10-21T19:49:45.913Z"
      },
      {
        "duration": 5,
        "start_time": "2022-10-21T19:49:46.079Z"
      },
      {
        "duration": 11,
        "start_time": "2022-10-21T19:49:46.176Z"
      },
      {
        "duration": 4,
        "start_time": "2022-10-21T19:49:49.816Z"
      },
      {
        "duration": 9,
        "start_time": "2022-10-21T19:49:50.085Z"
      },
      {
        "duration": 2,
        "start_time": "2022-10-21T19:49:58.636Z"
      },
      {
        "duration": 26,
        "start_time": "2022-10-21T19:49:58.670Z"
      },
      {
        "duration": 3,
        "start_time": "2022-10-21T19:49:58.745Z"
      },
      {
        "duration": 577,
        "start_time": "2022-10-21T19:49:58.805Z"
      },
      {
        "duration": 14,
        "start_time": "2022-10-21T19:49:59.391Z"
      },
      {
        "duration": 4,
        "start_time": "2022-10-21T19:49:59.407Z"
      },
      {
        "duration": 128,
        "start_time": "2022-10-21T19:49:59.413Z"
      },
      {
        "duration": 4,
        "start_time": "2022-10-21T19:49:59.543Z"
      },
      {
        "duration": 4,
        "start_time": "2022-10-21T19:49:59.548Z"
      },
      {
        "duration": 4,
        "start_time": "2022-10-21T19:49:59.772Z"
      },
      {
        "duration": 8,
        "start_time": "2022-10-21T19:49:59.822Z"
      },
      {
        "duration": 4,
        "start_time": "2022-10-21T19:49:59.989Z"
      },
      {
        "duration": 11,
        "start_time": "2022-10-21T19:50:00.075Z"
      },
      {
        "duration": 4,
        "start_time": "2022-10-21T19:50:00.116Z"
      },
      {
        "duration": 8,
        "start_time": "2022-10-21T19:50:00.141Z"
      },
      {
        "duration": 3,
        "start_time": "2022-10-21T19:50:17.626Z"
      },
      {
        "duration": 26,
        "start_time": "2022-10-21T19:50:17.649Z"
      },
      {
        "duration": 3,
        "start_time": "2022-10-21T19:50:17.724Z"
      },
      {
        "duration": 587,
        "start_time": "2022-10-21T19:50:17.784Z"
      },
      {
        "duration": 18,
        "start_time": "2022-10-21T19:50:18.372Z"
      },
      {
        "duration": 4,
        "start_time": "2022-10-21T19:50:18.392Z"
      },
      {
        "duration": 131,
        "start_time": "2022-10-21T19:50:18.397Z"
      },
      {
        "duration": 4,
        "start_time": "2022-10-21T19:50:18.530Z"
      },
      {
        "duration": 4,
        "start_time": "2022-10-21T19:50:18.535Z"
      },
      {
        "duration": 5,
        "start_time": "2022-10-21T19:50:18.755Z"
      },
      {
        "duration": 9,
        "start_time": "2022-10-21T19:50:18.788Z"
      },
      {
        "duration": 5,
        "start_time": "2022-10-21T19:50:18.898Z"
      },
      {
        "duration": 11,
        "start_time": "2022-10-21T19:50:18.923Z"
      },
      {
        "duration": 5,
        "start_time": "2022-10-21T19:50:18.989Z"
      },
      {
        "duration": 9,
        "start_time": "2022-10-21T19:50:19.024Z"
      },
      {
        "duration": 11,
        "start_time": "2022-10-21T19:50:48.317Z"
      },
      {
        "duration": 4,
        "start_time": "2022-10-21T19:50:55.723Z"
      },
      {
        "duration": 26,
        "start_time": "2022-10-21T19:50:55.759Z"
      },
      {
        "duration": 3,
        "start_time": "2022-10-21T19:50:55.846Z"
      },
      {
        "duration": 574,
        "start_time": "2022-10-21T19:50:55.889Z"
      },
      {
        "duration": 26,
        "start_time": "2022-10-21T19:50:56.465Z"
      },
      {
        "duration": 5,
        "start_time": "2022-10-21T19:50:57.789Z"
      },
      {
        "duration": 110,
        "start_time": "2022-10-21T19:50:58.227Z"
      },
      {
        "duration": 4,
        "start_time": "2022-10-21T19:50:59.480Z"
      },
      {
        "duration": 3,
        "start_time": "2022-10-21T19:51:00.214Z"
      },
      {
        "duration": 4,
        "start_time": "2022-10-21T19:51:03.171Z"
      },
      {
        "duration": 8,
        "start_time": "2022-10-21T19:51:03.581Z"
      },
      {
        "duration": 4,
        "start_time": "2022-10-21T19:51:04.691Z"
      },
      {
        "duration": 12,
        "start_time": "2022-10-21T19:51:06.328Z"
      },
      {
        "duration": 12,
        "start_time": "2022-10-21T19:51:16.236Z"
      },
      {
        "duration": 4,
        "start_time": "2022-10-21T19:51:22.719Z"
      },
      {
        "duration": 10,
        "start_time": "2022-10-21T19:51:24.544Z"
      },
      {
        "duration": 4,
        "start_time": "2022-10-21T19:51:44.583Z"
      },
      {
        "duration": 11,
        "start_time": "2022-10-21T19:51:45.412Z"
      },
      {
        "duration": 4,
        "start_time": "2022-10-21T19:51:48.262Z"
      },
      {
        "duration": 8,
        "start_time": "2022-10-21T19:51:48.888Z"
      },
      {
        "duration": 3,
        "start_time": "2022-10-21T19:51:53.782Z"
      },
      {
        "duration": 27,
        "start_time": "2022-10-21T19:51:53.816Z"
      },
      {
        "duration": 3,
        "start_time": "2022-10-21T19:51:53.892Z"
      },
      {
        "duration": 565,
        "start_time": "2022-10-21T19:51:53.944Z"
      },
      {
        "duration": 12,
        "start_time": "2022-10-21T19:51:54.510Z"
      },
      {
        "duration": 5,
        "start_time": "2022-10-21T19:51:54.523Z"
      },
      {
        "duration": 124,
        "start_time": "2022-10-21T19:51:54.529Z"
      },
      {
        "duration": 5,
        "start_time": "2022-10-21T19:51:54.655Z"
      },
      {
        "duration": 3,
        "start_time": "2022-10-21T19:51:54.662Z"
      },
      {
        "duration": 4,
        "start_time": "2022-10-21T19:51:58.450Z"
      },
      {
        "duration": 8,
        "start_time": "2022-10-21T19:51:58.967Z"
      },
      {
        "duration": 4,
        "start_time": "2022-10-21T19:52:00.643Z"
      },
      {
        "duration": 12,
        "start_time": "2022-10-21T19:52:01.084Z"
      },
      {
        "duration": 5,
        "start_time": "2022-10-21T19:52:02.841Z"
      },
      {
        "duration": 8,
        "start_time": "2022-10-21T19:52:03.315Z"
      },
      {
        "duration": 5,
        "start_time": "2022-10-21T19:52:16.697Z"
      },
      {
        "duration": 3,
        "start_time": "2022-10-21T19:52:22.154Z"
      },
      {
        "duration": 27,
        "start_time": "2022-10-21T19:52:22.203Z"
      },
      {
        "duration": 3,
        "start_time": "2022-10-21T19:52:22.267Z"
      },
      {
        "duration": 583,
        "start_time": "2022-10-21T19:52:22.326Z"
      },
      {
        "duration": 12,
        "start_time": "2022-10-21T19:52:22.911Z"
      },
      {
        "duration": 4,
        "start_time": "2022-10-21T19:52:22.924Z"
      },
      {
        "duration": 127,
        "start_time": "2022-10-21T19:52:22.929Z"
      },
      {
        "duration": 5,
        "start_time": "2022-10-21T19:52:23.058Z"
      },
      {
        "duration": 10,
        "start_time": "2022-10-21T19:52:23.065Z"
      },
      {
        "duration": 5,
        "start_time": "2022-10-21T19:52:29.368Z"
      },
      {
        "duration": 8,
        "start_time": "2022-10-21T19:52:29.831Z"
      },
      {
        "duration": 4,
        "start_time": "2022-10-21T19:52:34.018Z"
      },
      {
        "duration": 13,
        "start_time": "2022-10-21T19:52:35.097Z"
      },
      {
        "duration": 4,
        "start_time": "2022-10-21T19:52:38.363Z"
      },
      {
        "duration": 10,
        "start_time": "2022-10-21T19:52:39.945Z"
      },
      {
        "duration": 3,
        "start_time": "2022-10-21T19:52:47.282Z"
      },
      {
        "duration": 27,
        "start_time": "2022-10-21T19:52:47.782Z"
      },
      {
        "duration": 4,
        "start_time": "2022-10-21T19:52:48.647Z"
      },
      {
        "duration": 585,
        "start_time": "2022-10-21T19:52:49.077Z"
      },
      {
        "duration": 12,
        "start_time": "2022-10-21T19:52:50.472Z"
      },
      {
        "duration": 5,
        "start_time": "2022-10-21T19:52:51.998Z"
      },
      {
        "duration": 3,
        "start_time": "2022-10-21T19:53:03.168Z"
      },
      {
        "duration": 26,
        "start_time": "2022-10-21T19:53:03.415Z"
      },
      {
        "duration": 3,
        "start_time": "2022-10-21T19:53:03.857Z"
      },
      {
        "duration": 619,
        "start_time": "2022-10-21T19:53:04.100Z"
      },
      {
        "duration": 13,
        "start_time": "2022-10-21T19:53:05.160Z"
      },
      {
        "duration": 5,
        "start_time": "2022-10-21T19:53:06.920Z"
      },
      {
        "duration": 771,
        "start_time": "2022-10-21T19:53:07.641Z"
      },
      {
        "duration": 5,
        "start_time": "2022-10-21T19:53:09.613Z"
      },
      {
        "duration": 3,
        "start_time": "2022-10-21T19:53:10.829Z"
      },
      {
        "duration": 5,
        "start_time": "2022-10-21T19:53:13.941Z"
      },
      {
        "duration": 8,
        "start_time": "2022-10-21T19:53:14.329Z"
      },
      {
        "duration": 4,
        "start_time": "2022-10-21T19:53:15.977Z"
      },
      {
        "duration": 11,
        "start_time": "2022-10-21T19:53:16.491Z"
      },
      {
        "duration": 4,
        "start_time": "2022-10-21T19:53:19.961Z"
      },
      {
        "duration": 9,
        "start_time": "2022-10-21T19:53:20.337Z"
      },
      {
        "duration": 3,
        "start_time": "2022-10-21T20:26:40.078Z"
      },
      {
        "duration": 29,
        "start_time": "2022-10-21T20:26:40.380Z"
      },
      {
        "duration": 4,
        "start_time": "2022-10-21T20:26:41.000Z"
      },
      {
        "duration": 636,
        "start_time": "2022-10-21T20:26:41.319Z"
      },
      {
        "duration": 13,
        "start_time": "2022-10-21T20:26:42.500Z"
      },
      {
        "duration": 4,
        "start_time": "2022-10-21T20:26:44.108Z"
      },
      {
        "duration": 117,
        "start_time": "2022-10-21T20:26:46.348Z"
      },
      {
        "duration": 5,
        "start_time": "2022-10-21T20:26:49.152Z"
      },
      {
        "duration": 3,
        "start_time": "2022-10-21T20:26:50.260Z"
      },
      {
        "duration": 5,
        "start_time": "2022-10-21T20:26:58.024Z"
      },
      {
        "duration": 9,
        "start_time": "2022-10-21T20:26:59.027Z"
      },
      {
        "duration": 4,
        "start_time": "2022-10-21T20:27:01.697Z"
      },
      {
        "duration": 11,
        "start_time": "2022-10-21T20:27:02.326Z"
      },
      {
        "duration": 6,
        "start_time": "2022-10-21T20:27:04.936Z"
      },
      {
        "duration": 9,
        "start_time": "2022-10-21T20:27:06.496Z"
      },
      {
        "duration": 1042,
        "start_time": "2022-10-21T20:28:29.196Z"
      },
      {
        "duration": 29,
        "start_time": "2022-10-21T20:28:30.240Z"
      },
      {
        "duration": 14,
        "start_time": "2022-10-21T20:28:30.270Z"
      },
      {
        "duration": 894,
        "start_time": "2022-10-21T20:28:30.286Z"
      },
      {
        "duration": 61,
        "start_time": "2022-10-21T20:28:31.183Z"
      },
      {
        "duration": 5,
        "start_time": "2022-10-21T20:28:31.245Z"
      },
      {
        "duration": 150,
        "start_time": "2022-10-21T20:28:31.252Z"
      },
      {
        "duration": 5,
        "start_time": "2022-10-21T20:28:31.404Z"
      },
      {
        "duration": 4,
        "start_time": "2022-10-21T20:28:31.411Z"
      },
      {
        "duration": 19,
        "start_time": "2022-10-21T20:28:31.417Z"
      },
      {
        "duration": 32,
        "start_time": "2022-10-21T20:28:31.438Z"
      },
      {
        "duration": 16,
        "start_time": "2022-10-21T20:28:31.472Z"
      },
      {
        "duration": 17,
        "start_time": "2022-10-21T20:28:31.490Z"
      },
      {
        "duration": 5,
        "start_time": "2022-10-21T20:28:31.510Z"
      },
      {
        "duration": 10,
        "start_time": "2022-10-21T20:28:31.516Z"
      },
      {
        "duration": 1162,
        "start_time": "2022-10-21T20:41:24.662Z"
      },
      {
        "duration": 28,
        "start_time": "2022-10-21T20:41:25.826Z"
      },
      {
        "duration": 4,
        "start_time": "2022-10-21T20:41:25.856Z"
      },
      {
        "duration": 1640,
        "start_time": "2022-10-21T20:41:25.862Z"
      },
      {
        "duration": 107,
        "start_time": "2022-10-21T20:41:27.504Z"
      },
      {
        "duration": 5,
        "start_time": "2022-10-21T20:41:27.612Z"
      },
      {
        "duration": 290,
        "start_time": "2022-10-21T20:41:27.619Z"
      },
      {
        "duration": 5,
        "start_time": "2022-10-21T20:41:27.911Z"
      },
      {
        "duration": 6,
        "start_time": "2022-10-21T20:41:27.918Z"
      },
      {
        "duration": 7,
        "start_time": "2022-10-21T20:41:27.926Z"
      },
      {
        "duration": 61,
        "start_time": "2022-10-21T20:41:27.935Z"
      },
      {
        "duration": 5,
        "start_time": "2022-10-21T20:41:27.998Z"
      },
      {
        "duration": 15,
        "start_time": "2022-10-21T20:41:28.005Z"
      },
      {
        "duration": 5,
        "start_time": "2022-10-21T20:41:28.022Z"
      },
      {
        "duration": 70,
        "start_time": "2022-10-21T20:41:28.028Z"
      },
      {
        "duration": 1190,
        "start_time": "2022-10-21T20:42:59.864Z"
      },
      {
        "duration": 35,
        "start_time": "2022-10-21T20:43:01.056Z"
      },
      {
        "duration": 4,
        "start_time": "2022-10-21T20:43:01.093Z"
      },
      {
        "duration": 1911,
        "start_time": "2022-10-21T20:43:01.099Z"
      },
      {
        "duration": 53,
        "start_time": "2022-10-21T20:43:03.012Z"
      },
      {
        "duration": 5,
        "start_time": "2022-10-21T20:43:03.067Z"
      },
      {
        "duration": 139,
        "start_time": "2022-10-21T20:43:03.092Z"
      },
      {
        "duration": 7,
        "start_time": "2022-10-21T20:43:03.233Z"
      },
      {
        "duration": 24,
        "start_time": "2022-10-21T20:43:03.242Z"
      },
      {
        "duration": 19,
        "start_time": "2022-10-21T20:43:03.269Z"
      },
      {
        "duration": 38,
        "start_time": "2022-10-21T20:43:03.290Z"
      },
      {
        "duration": 13,
        "start_time": "2022-10-21T20:43:03.329Z"
      },
      {
        "duration": 22,
        "start_time": "2022-10-21T20:43:03.344Z"
      },
      {
        "duration": 8,
        "start_time": "2022-10-21T20:43:03.368Z"
      },
      {
        "duration": 23,
        "start_time": "2022-10-21T20:43:03.378Z"
      },
      {
        "duration": 4,
        "start_time": "2022-10-21T20:43:51.204Z"
      },
      {
        "duration": 1051,
        "start_time": "2022-10-21T20:44:36.725Z"
      },
      {
        "duration": 28,
        "start_time": "2022-10-21T20:44:37.778Z"
      },
      {
        "duration": 3,
        "start_time": "2022-10-21T20:44:37.807Z"
      },
      {
        "duration": 953,
        "start_time": "2022-10-21T20:44:37.812Z"
      },
      {
        "duration": 62,
        "start_time": "2022-10-21T20:44:38.767Z"
      },
      {
        "duration": 5,
        "start_time": "2022-10-21T20:44:38.831Z"
      },
      {
        "duration": 154,
        "start_time": "2022-10-21T20:44:38.837Z"
      },
      {
        "duration": 5,
        "start_time": "2022-10-21T20:44:38.993Z"
      },
      {
        "duration": 7,
        "start_time": "2022-10-21T20:44:38.999Z"
      },
      {
        "duration": 11,
        "start_time": "2022-10-21T20:44:39.009Z"
      },
      {
        "duration": 4,
        "start_time": "2022-10-21T20:44:39.022Z"
      },
      {
        "duration": 14,
        "start_time": "2022-10-21T20:44:39.028Z"
      },
      {
        "duration": 5,
        "start_time": "2022-10-21T20:44:39.044Z"
      },
      {
        "duration": 46,
        "start_time": "2022-10-21T20:44:39.051Z"
      },
      {
        "duration": 1106,
        "start_time": "2022-10-21T20:46:55.516Z"
      },
      {
        "duration": 31,
        "start_time": "2022-10-21T20:46:56.625Z"
      },
      {
        "duration": 10,
        "start_time": "2022-10-21T20:46:56.658Z"
      },
      {
        "duration": 1761,
        "start_time": "2022-10-21T20:46:56.671Z"
      },
      {
        "duration": 158,
        "start_time": "2022-10-21T20:46:58.434Z"
      },
      {
        "duration": 4,
        "start_time": "2022-10-21T20:46:58.594Z"
      },
      {
        "duration": 324,
        "start_time": "2022-10-21T20:46:58.600Z"
      },
      {
        "duration": 5,
        "start_time": "2022-10-21T20:46:58.925Z"
      },
      {
        "duration": 6,
        "start_time": "2022-10-21T20:46:58.931Z"
      },
      {
        "duration": 52,
        "start_time": "2022-10-21T20:46:58.940Z"
      },
      {
        "duration": 5,
        "start_time": "2022-10-21T20:46:58.994Z"
      },
      {
        "duration": 18,
        "start_time": "2022-10-21T20:46:59.001Z"
      },
      {
        "duration": 6,
        "start_time": "2022-10-21T20:46:59.021Z"
      },
      {
        "duration": 11,
        "start_time": "2022-10-21T20:46:59.029Z"
      },
      {
        "duration": 1110,
        "start_time": "2022-10-21T20:47:44.201Z"
      },
      {
        "duration": 28,
        "start_time": "2022-10-21T20:47:45.313Z"
      },
      {
        "duration": 4,
        "start_time": "2022-10-21T20:47:45.343Z"
      },
      {
        "duration": 1004,
        "start_time": "2022-10-21T20:47:45.349Z"
      },
      {
        "duration": 69,
        "start_time": "2022-10-21T20:47:46.355Z"
      },
      {
        "duration": 6,
        "start_time": "2022-10-21T20:47:46.426Z"
      },
      {
        "duration": 187,
        "start_time": "2022-10-21T20:47:46.434Z"
      },
      {
        "duration": 6,
        "start_time": "2022-10-21T20:47:46.623Z"
      },
      {
        "duration": 6,
        "start_time": "2022-10-21T20:47:46.631Z"
      },
      {
        "duration": 15,
        "start_time": "2022-10-21T20:47:46.641Z"
      },
      {
        "duration": 7,
        "start_time": "2022-10-21T20:47:46.658Z"
      },
      {
        "duration": 16,
        "start_time": "2022-10-21T20:47:46.691Z"
      },
      {
        "duration": 6,
        "start_time": "2022-10-21T20:47:46.710Z"
      },
      {
        "duration": 10,
        "start_time": "2022-10-21T20:47:46.718Z"
      },
      {
        "duration": 52,
        "start_time": "2022-10-22T15:00:47.071Z"
      },
      {
        "duration": 6,
        "start_time": "2022-10-22T15:01:03.307Z"
      },
      {
        "duration": 6,
        "start_time": "2022-10-22T15:01:06.570Z"
      },
      {
        "duration": 6,
        "start_time": "2022-10-22T15:03:05.911Z"
      },
      {
        "duration": 1240,
        "start_time": "2022-10-22T15:03:13.749Z"
      },
      {
        "duration": 52,
        "start_time": "2022-10-22T15:03:14.991Z"
      },
      {
        "duration": 3,
        "start_time": "2022-10-22T15:03:15.987Z"
      },
      {
        "duration": 1231,
        "start_time": "2022-10-22T15:03:16.747Z"
      },
      {
        "duration": 6,
        "start_time": "2022-10-22T15:03:20.368Z"
      },
      {
        "duration": 12,
        "start_time": "2022-10-22T15:03:25.671Z"
      },
      {
        "duration": 7,
        "start_time": "2022-10-22T15:07:09.978Z"
      },
      {
        "duration": 3,
        "start_time": "2022-10-22T15:11:28.667Z"
      },
      {
        "duration": 146,
        "start_time": "2022-10-22T15:12:28.093Z"
      },
      {
        "duration": 101,
        "start_time": "2022-10-22T15:12:49.768Z"
      },
      {
        "duration": 217,
        "start_time": "2022-10-22T15:12:52.411Z"
      },
      {
        "duration": 164,
        "start_time": "2022-10-22T15:12:55.387Z"
      },
      {
        "duration": 141,
        "start_time": "2022-10-22T15:13:03.027Z"
      },
      {
        "duration": 136,
        "start_time": "2022-10-22T15:13:06.889Z"
      },
      {
        "duration": 172,
        "start_time": "2022-10-22T15:14:21.586Z"
      },
      {
        "duration": 32363,
        "start_time": "2022-10-22T15:15:15.484Z"
      },
      {
        "duration": 139,
        "start_time": "2022-10-22T15:15:55.997Z"
      },
      {
        "duration": 123,
        "start_time": "2022-10-22T15:17:02.146Z"
      },
      {
        "duration": 46,
        "start_time": "2022-10-22T15:17:13.693Z"
      },
      {
        "duration": 7,
        "start_time": "2022-10-22T15:17:16.910Z"
      },
      {
        "duration": 17,
        "start_time": "2022-10-22T15:17:21.338Z"
      },
      {
        "duration": 17,
        "start_time": "2022-10-22T15:17:28.268Z"
      },
      {
        "duration": 10,
        "start_time": "2022-10-22T15:17:42.382Z"
      },
      {
        "duration": 55,
        "start_time": "2022-10-22T15:17:47.302Z"
      },
      {
        "duration": 9,
        "start_time": "2022-10-22T15:17:56.143Z"
      },
      {
        "duration": 10,
        "start_time": "2022-10-22T15:18:42.845Z"
      },
      {
        "duration": 59,
        "start_time": "2022-10-22T15:21:21.394Z"
      },
      {
        "duration": 158,
        "start_time": "2022-10-22T15:21:40.465Z"
      },
      {
        "duration": 1191,
        "start_time": "2022-10-22T15:26:34.867Z"
      },
      {
        "duration": 18,
        "start_time": "2022-10-22T15:26:36.060Z"
      },
      {
        "duration": 4,
        "start_time": "2022-10-22T15:26:36.079Z"
      },
      {
        "duration": 1704,
        "start_time": "2022-10-22T15:26:36.086Z"
      },
      {
        "duration": 63,
        "start_time": "2022-10-22T15:26:37.792Z"
      },
      {
        "duration": 302,
        "start_time": "2022-10-22T15:26:37.857Z"
      },
      {
        "duration": 109,
        "start_time": "2022-10-22T15:26:38.161Z"
      },
      {
        "duration": 5,
        "start_time": "2022-10-22T15:26:38.272Z"
      },
      {
        "duration": 485,
        "start_time": "2022-10-22T15:26:38.279Z"
      },
      {
        "duration": 6,
        "start_time": "2022-10-22T15:26:38.766Z"
      },
      {
        "duration": 22,
        "start_time": "2022-10-22T15:26:38.774Z"
      },
      {
        "duration": 14,
        "start_time": "2022-10-22T15:26:38.799Z"
      },
      {
        "duration": 6,
        "start_time": "2022-10-22T15:26:38.816Z"
      },
      {
        "duration": 34,
        "start_time": "2022-10-22T15:26:38.825Z"
      },
      {
        "duration": 7,
        "start_time": "2022-10-22T15:26:38.861Z"
      },
      {
        "duration": 16,
        "start_time": "2022-10-22T15:26:38.870Z"
      },
      {
        "duration": 449,
        "start_time": "2022-10-23T15:37:58.010Z"
      },
      {
        "duration": 76,
        "start_time": "2022-10-23T15:38:12.992Z"
      },
      {
        "duration": 3661,
        "start_time": "2022-10-23T15:38:18.940Z"
      },
      {
        "duration": 96,
        "start_time": "2022-10-23T15:39:10.139Z"
      },
      {
        "duration": 4,
        "start_time": "2022-10-23T15:39:13.585Z"
      },
      {
        "duration": 1094,
        "start_time": "2022-10-23T15:39:14.217Z"
      },
      {
        "duration": 12,
        "start_time": "2022-10-23T15:39:20.644Z"
      },
      {
        "duration": 113,
        "start_time": "2022-10-23T15:39:21.765Z"
      },
      {
        "duration": 170,
        "start_time": "2022-10-23T15:39:46.929Z"
      },
      {
        "duration": 88,
        "start_time": "2022-10-23T15:40:47.530Z"
      },
      {
        "duration": 6418,
        "start_time": "2022-10-23T15:41:05.835Z"
      },
      {
        "duration": 281,
        "start_time": "2022-10-23T15:41:46.539Z"
      },
      {
        "duration": 4,
        "start_time": "2022-10-23T15:42:58.652Z"
      }
    ],
    "kernelspec": {
      "display_name": "Python 3 (ipykernel)",
      "language": "python",
      "name": "python3"
    },
    "language_info": {
      "codemirror_mode": {
        "name": "ipython",
        "version": 3
      },
      "file_extension": ".py",
      "mimetype": "text/x-python",
      "name": "python",
      "nbconvert_exporter": "python",
      "pygments_lexer": "ipython3",
      "version": "3.9.5"
    },
    "toc": {
      "base_numbering": 1,
      "nav_menu": {},
      "number_sections": true,
      "sideBar": true,
      "skip_h1_title": true,
      "title_cell": "Содержание",
      "title_sidebar": "Contents",
      "toc_cell": true,
      "toc_position": {
        "height": "818.25px",
        "left": "74px",
        "top": "111.059px",
        "width": "196.75px"
      },
      "toc_section_display": true,
      "toc_window_display": true
    },
    "colab": {
      "provenance": [],
      "collapsed_sections": []
    }
  },
  "nbformat": 4,
  "nbformat_minor": 0
}